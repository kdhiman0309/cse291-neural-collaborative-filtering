{
 "cells": [
  {
   "cell_type": "code",
   "execution_count": 2,
   "metadata": {
    "collapsed": true
   },
   "outputs": [],
   "source": [
    "import pandas as pd\n",
    "import numpy as np\n",
    "import re"
   ]
  },
  {
   "cell_type": "markdown",
   "metadata": {},
   "source": [
    "## NCF Paper data"
   ]
  },
  {
   "cell_type": "code",
   "execution_count": 6,
   "metadata": {
    "collapsed": false
   },
   "outputs": [],
   "source": [
    "NCF_DATA_PATH=\"/home/kolassc/Desktop/ucsd_course_materials/CSE291/project/code/\"\n",
    "df_ratings = pd.read_csv(NCF_DATA_PATH+\"cleaned_data_u20_enc.csv\", sep=\",\", header=None)\n",
    "df_ratings.columns = [\"UserID\",\"ItemID\",\"Rating\",\"Timestamp\"]\n",
    "len(df_ratings.UserID.unique()), len(df_ratings.ItemID.unique())\n",
    "train_items = set(df_ratings.ItemID.values)"
   ]
  },
  {
   "cell_type": "code",
   "execution_count": 7,
   "metadata": {
    "collapsed": false
   },
   "outputs": [
    {
     "data": {
      "text/html": [
       "<div>\n",
       "<table border=\"1\" class=\"dataframe\">\n",
       "  <thead>\n",
       "    <tr style=\"text-align: right;\">\n",
       "      <th></th>\n",
       "      <th>UserID</th>\n",
       "      <th>ItemID</th>\n",
       "      <th>Rating</th>\n",
       "      <th>Timestamp</th>\n",
       "    </tr>\n",
       "  </thead>\n",
       "  <tbody>\n",
       "    <tr>\n",
       "      <th>0</th>\n",
       "      <td>1</td>\n",
       "      <td>1</td>\n",
       "      <td>4.0</td>\n",
       "      <td>1124582400</td>\n",
       "    </tr>\n",
       "    <tr>\n",
       "      <th>1</th>\n",
       "      <td>1</td>\n",
       "      <td>2</td>\n",
       "      <td>5.0</td>\n",
       "      <td>1253059200</td>\n",
       "    </tr>\n",
       "    <tr>\n",
       "      <th>2</th>\n",
       "      <td>1</td>\n",
       "      <td>3</td>\n",
       "      <td>3.0</td>\n",
       "      <td>992995200</td>\n",
       "    </tr>\n",
       "    <tr>\n",
       "      <th>3</th>\n",
       "      <td>1</td>\n",
       "      <td>4</td>\n",
       "      <td>1.0</td>\n",
       "      <td>1120089600</td>\n",
       "    </tr>\n",
       "    <tr>\n",
       "      <th>4</th>\n",
       "      <td>1</td>\n",
       "      <td>5</td>\n",
       "      <td>1.0</td>\n",
       "      <td>1229472000</td>\n",
       "    </tr>\n",
       "  </tbody>\n",
       "</table>\n",
       "</div>"
      ],
      "text/plain": [
       "   UserID  ItemID  Rating   Timestamp\n",
       "0       1       1     4.0  1124582400\n",
       "1       1       2     5.0  1253059200\n",
       "2       1       3     3.0   992995200\n",
       "3       1       4     1.0  1120089600\n",
       "4       1       5     1.0  1229472000"
      ]
     },
     "execution_count": 7,
     "metadata": {},
     "output_type": "execute_result"
    }
   ],
   "source": [
    "df_ratings.head()"
   ]
  },
  {
   "cell_type": "code",
   "execution_count": 8,
   "metadata": {
    "collapsed": false
   },
   "outputs": [
    {
     "data": {
      "text/html": [
       "<div>\n",
       "<table border=\"1\" class=\"dataframe\">\n",
       "  <thead>\n",
       "    <tr style=\"text-align: right;\">\n",
       "      <th></th>\n",
       "      <th>UserID</th>\n",
       "      <th>ItemID</th>\n",
       "      <th>Rating</th>\n",
       "      <th>Timestamp</th>\n",
       "    </tr>\n",
       "  </thead>\n",
       "  <tbody>\n",
       "    <tr>\n",
       "      <th>928397</th>\n",
       "      <td>15715</td>\n",
       "      <td>75118</td>\n",
       "      <td>5.0</td>\n",
       "      <td>1406073600</td>\n",
       "    </tr>\n",
       "    <tr>\n",
       "      <th>751548</th>\n",
       "      <td>12829</td>\n",
       "      <td>39739</td>\n",
       "      <td>3.0</td>\n",
       "      <td>1406073600</td>\n",
       "    </tr>\n",
       "    <tr>\n",
       "      <th>595123</th>\n",
       "      <td>10061</td>\n",
       "      <td>6929</td>\n",
       "      <td>5.0</td>\n",
       "      <td>1406073600</td>\n",
       "    </tr>\n",
       "    <tr>\n",
       "      <th>358911</th>\n",
       "      <td>5992</td>\n",
       "      <td>17361</td>\n",
       "      <td>5.0</td>\n",
       "      <td>1406073600</td>\n",
       "    </tr>\n",
       "    <tr>\n",
       "      <th>224826</th>\n",
       "      <td>3729</td>\n",
       "      <td>59570</td>\n",
       "      <td>5.0</td>\n",
       "      <td>1406073600</td>\n",
       "    </tr>\n",
       "  </tbody>\n",
       "</table>\n",
       "</div>"
      ],
      "text/plain": [
       "        UserID  ItemID  Rating   Timestamp\n",
       "928397   15715   75118     5.0  1406073600\n",
       "751548   12829   39739     3.0  1406073600\n",
       "595123   10061    6929     5.0  1406073600\n",
       "358911    5992   17361     5.0  1406073600\n",
       "224826    3729   59570     5.0  1406073600"
      ]
     },
     "execution_count": 8,
     "metadata": {},
     "output_type": "execute_result"
    }
   ],
   "source": [
    "df_ratings = df_ratings.sort_values(\"Timestamp\", ascending=False)\n",
    "df_ratings.head()"
   ]
  },
  {
   "cell_type": "code",
   "execution_count": 9,
   "metadata": {
    "collapsed": true
   },
   "outputs": [],
   "source": [
    "from collections import defaultdict\n",
    "\n",
    "count_per_user = 1\n",
    "user_counts = defaultdict(int)\n",
    "rows = []\n",
    "for index, row in df_ratings.iterrows():\n",
    "    if user_counts[row[\"UserID\"]] < count_per_user:\n",
    "        rows += [index]\n",
    "        user_counts[row[\"UserID\"]] +=1"
   ]
  },
  {
   "cell_type": "code",
   "execution_count": 10,
   "metadata": {
    "collapsed": true
   },
   "outputs": [],
   "source": [
    "df_test_ratings = df_ratings.loc[rows]\n",
    "df_train_ratings = df_ratings.loc[list(set(df_ratings.index)-set(df_test_ratings.index))]"
   ]
  },
  {
   "cell_type": "code",
   "execution_count": 12,
   "metadata": {
    "collapsed": false
   },
   "outputs": [
    {
     "data": {
      "text/html": [
       "<div>\n",
       "<table border=\"1\" class=\"dataframe\">\n",
       "  <thead>\n",
       "    <tr style=\"text-align: right;\">\n",
       "      <th></th>\n",
       "      <th>UserID</th>\n",
       "      <th>ItemID</th>\n",
       "      <th>Rating</th>\n",
       "      <th>Timestamp</th>\n",
       "    </tr>\n",
       "  </thead>\n",
       "  <tbody>\n",
       "    <tr>\n",
       "      <th>928397</th>\n",
       "      <td>15715</td>\n",
       "      <td>75118</td>\n",
       "      <td>5.0</td>\n",
       "      <td>1406073600</td>\n",
       "    </tr>\n",
       "    <tr>\n",
       "      <th>751548</th>\n",
       "      <td>12829</td>\n",
       "      <td>39739</td>\n",
       "      <td>3.0</td>\n",
       "      <td>1406073600</td>\n",
       "    </tr>\n",
       "    <tr>\n",
       "      <th>595123</th>\n",
       "      <td>10061</td>\n",
       "      <td>6929</td>\n",
       "      <td>5.0</td>\n",
       "      <td>1406073600</td>\n",
       "    </tr>\n",
       "    <tr>\n",
       "      <th>358911</th>\n",
       "      <td>5992</td>\n",
       "      <td>17361</td>\n",
       "      <td>5.0</td>\n",
       "      <td>1406073600</td>\n",
       "    </tr>\n",
       "    <tr>\n",
       "      <th>224826</th>\n",
       "      <td>3729</td>\n",
       "      <td>59570</td>\n",
       "      <td>5.0</td>\n",
       "      <td>1406073600</td>\n",
       "    </tr>\n",
       "  </tbody>\n",
       "</table>\n",
       "</div>"
      ],
      "text/plain": [
       "        UserID  ItemID  Rating   Timestamp\n",
       "928397   15715   75118     5.0  1406073600\n",
       "751548   12829   39739     3.0  1406073600\n",
       "595123   10061    6929     5.0  1406073600\n",
       "358911    5992   17361     5.0  1406073600\n",
       "224826    3729   59570     5.0  1406073600"
      ]
     },
     "execution_count": 12,
     "metadata": {},
     "output_type": "execute_result"
    }
   ],
   "source": [
    "df_test_ratings.head()"
   ]
  },
  {
   "cell_type": "code",
   "execution_count": 13,
   "metadata": {
    "collapsed": false
   },
   "outputs": [
    {
     "data": {
      "text/html": [
       "<div>\n",
       "<table border=\"1\" class=\"dataframe\">\n",
       "  <thead>\n",
       "    <tr style=\"text-align: right;\">\n",
       "      <th></th>\n",
       "      <th>UserID</th>\n",
       "      <th>ItemID</th>\n",
       "      <th>Rating</th>\n",
       "      <th>Timestamp</th>\n",
       "    </tr>\n",
       "  </thead>\n",
       "  <tbody>\n",
       "    <tr>\n",
       "      <th>0</th>\n",
       "      <td>1</td>\n",
       "      <td>1</td>\n",
       "      <td>4.0</td>\n",
       "      <td>1124582400</td>\n",
       "    </tr>\n",
       "    <tr>\n",
       "      <th>1</th>\n",
       "      <td>1</td>\n",
       "      <td>2</td>\n",
       "      <td>5.0</td>\n",
       "      <td>1253059200</td>\n",
       "    </tr>\n",
       "    <tr>\n",
       "      <th>2</th>\n",
       "      <td>1</td>\n",
       "      <td>3</td>\n",
       "      <td>3.0</td>\n",
       "      <td>992995200</td>\n",
       "    </tr>\n",
       "    <tr>\n",
       "      <th>3</th>\n",
       "      <td>1</td>\n",
       "      <td>4</td>\n",
       "      <td>1.0</td>\n",
       "      <td>1120089600</td>\n",
       "    </tr>\n",
       "    <tr>\n",
       "      <th>4</th>\n",
       "      <td>1</td>\n",
       "      <td>5</td>\n",
       "      <td>1.0</td>\n",
       "      <td>1229472000</td>\n",
       "    </tr>\n",
       "  </tbody>\n",
       "</table>\n",
       "</div>"
      ],
      "text/plain": [
       "   UserID  ItemID  Rating   Timestamp\n",
       "0       1       1     4.0  1124582400\n",
       "1       1       2     5.0  1253059200\n",
       "2       1       3     3.0   992995200\n",
       "3       1       4     1.0  1120089600\n",
       "4       1       5     1.0  1229472000"
      ]
     },
     "execution_count": 13,
     "metadata": {},
     "output_type": "execute_result"
    }
   ],
   "source": [
    "df_train_ratings.head()"
   ]
  },
  {
   "cell_type": "markdown",
   "metadata": {
    "collapsed": true
   },
   "source": [
    "df_test_ratings.to_csv(\"data/movielens.test.ratings\", index=False)\n",
    "df_train_ratings.to_csv(\"data/movielens.train.ratings\", index=False)"
   ]
  },
  {
   "cell_type": "markdown",
   "metadata": {},
   "source": [
    "### Implict Feedback and Negative Sampling"
   ]
  },
  {
   "cell_type": "code",
   "execution_count": 14,
   "metadata": {
    "collapsed": true
   },
   "outputs": [],
   "source": [
    "num_negs_per_positive = 5\n",
    "user_item_pairs = defaultdict(set)\n",
    "\n",
    "for x in df_ratings[[\"UserID\", \"ItemID\"]].values:\n",
    "    # add all +ve to set\n",
    "    user_item_pairs[x[0]].add(x[1])\n",
    "\n",
    "num_items = df_ratings[\"ItemID\"].max()\n",
    "\n",
    "def get_negs(u):\n",
    "    negs = []\n",
    "    for _i in range(num_negs_per_positive):\n",
    "        # generate negatives and add to dict\n",
    "        j = np.random.randint(num_items)\n",
    "        while (u,j) in user_item_pairs[u]:\n",
    "            j = np.random.randint(num_items)\n",
    "        negs += [j]\n",
    "        user_item_pairs[u].add(j)\n",
    "    return negs\n",
    "\n",
    "df_test_ratings[\"Negatives\"] = df_test_ratings[\"UserID\"].apply(lambda x: get_negs(x))\n",
    "df_train_ratings[\"Negatives\"] = df_train_ratings[\"UserID\"].apply(lambda x: get_negs(x))"
   ]
  },
  {
   "cell_type": "code",
   "execution_count": 15,
   "metadata": {
    "collapsed": false
   },
   "outputs": [
    {
     "data": {
      "text/html": [
       "<div>\n",
       "<table border=\"1\" class=\"dataframe\">\n",
       "  <thead>\n",
       "    <tr style=\"text-align: right;\">\n",
       "      <th></th>\n",
       "      <th>UserID</th>\n",
       "      <th>ItemID</th>\n",
       "      <th>Rating</th>\n",
       "      <th>Timestamp</th>\n",
       "      <th>Negatives</th>\n",
       "    </tr>\n",
       "  </thead>\n",
       "  <tbody>\n",
       "    <tr>\n",
       "      <th>928397</th>\n",
       "      <td>15715</td>\n",
       "      <td>75118</td>\n",
       "      <td>5.0</td>\n",
       "      <td>1406073600</td>\n",
       "      <td>[10038, 89863, 17955, 16054, 22450]</td>\n",
       "    </tr>\n",
       "    <tr>\n",
       "      <th>751548</th>\n",
       "      <td>12829</td>\n",
       "      <td>39739</td>\n",
       "      <td>3.0</td>\n",
       "      <td>1406073600</td>\n",
       "      <td>[38415, 73755, 90351, 95308, 70427]</td>\n",
       "    </tr>\n",
       "    <tr>\n",
       "      <th>595123</th>\n",
       "      <td>10061</td>\n",
       "      <td>6929</td>\n",
       "      <td>5.0</td>\n",
       "      <td>1406073600</td>\n",
       "      <td>[114311, 47601, 41245, 43836, 35527]</td>\n",
       "    </tr>\n",
       "    <tr>\n",
       "      <th>358911</th>\n",
       "      <td>5992</td>\n",
       "      <td>17361</td>\n",
       "      <td>5.0</td>\n",
       "      <td>1406073600</td>\n",
       "      <td>[88349, 53458, 107847, 68230, 112527]</td>\n",
       "    </tr>\n",
       "    <tr>\n",
       "      <th>224826</th>\n",
       "      <td>3729</td>\n",
       "      <td>59570</td>\n",
       "      <td>5.0</td>\n",
       "      <td>1406073600</td>\n",
       "      <td>[49037, 85798, 75003, 27870, 58881]</td>\n",
       "    </tr>\n",
       "  </tbody>\n",
       "</table>\n",
       "</div>"
      ],
      "text/plain": [
       "        UserID  ItemID  Rating   Timestamp  \\\n",
       "928397   15715   75118     5.0  1406073600   \n",
       "751548   12829   39739     3.0  1406073600   \n",
       "595123   10061    6929     5.0  1406073600   \n",
       "358911    5992   17361     5.0  1406073600   \n",
       "224826    3729   59570     5.0  1406073600   \n",
       "\n",
       "                                    Negatives  \n",
       "928397    [10038, 89863, 17955, 16054, 22450]  \n",
       "751548    [38415, 73755, 90351, 95308, 70427]  \n",
       "595123   [114311, 47601, 41245, 43836, 35527]  \n",
       "358911  [88349, 53458, 107847, 68230, 112527]  \n",
       "224826    [49037, 85798, 75003, 27870, 58881]  "
      ]
     },
     "execution_count": 15,
     "metadata": {},
     "output_type": "execute_result"
    }
   ],
   "source": [
    "df_test_ratings.head()"
   ]
  },
  {
   "cell_type": "code",
   "execution_count": 21,
   "metadata": {
    "collapsed": false
   },
   "outputs": [],
   "source": [
    "df_test_ratings.to_pickle(\"data/amazon.test.data\")\n",
    "df_train_ratings.to_pickle(\"data/amazon.train.data\")"
   ]
  },
  {
   "cell_type": "code",
   "execution_count": 18,
   "metadata": {
    "collapsed": false
   },
   "outputs": [
    {
     "name": "stdout",
     "output_type": "stream",
     "text": [
      "amazon.test.data  amazon.train.data\r\n"
     ]
    }
   ],
   "source": [
    "!ls data/"
   ]
  },
  {
   "cell_type": "code",
   "execution_count": 19,
   "metadata": {
    "collapsed": false
   },
   "outputs": [
    {
     "data": {
      "text/plain": [
       "(937541, 16141)"
      ]
     },
     "execution_count": 19,
     "metadata": {},
     "output_type": "execute_result"
    }
   ],
   "source": [
    "len(df_train_ratings), len(df_test_ratings)"
   ]
  },
  {
   "cell_type": "code",
   "execution_count": null,
   "metadata": {
    "collapsed": true
   },
   "outputs": [],
   "source": []
  }
 ],
 "metadata": {
  "anaconda-cloud": {},
  "kernelspec": {
   "display_name": "Python [default]",
   "language": "python",
   "name": "python3"
  },
  "language_info": {
   "codemirror_mode": {
    "name": "ipython",
    "version": 3
   },
   "file_extension": ".py",
   "mimetype": "text/x-python",
   "name": "python",
   "nbconvert_exporter": "python",
   "pygments_lexer": "ipython3",
   "version": "3.5.2"
  }
 },
 "nbformat": 4,
 "nbformat_minor": 2
}
