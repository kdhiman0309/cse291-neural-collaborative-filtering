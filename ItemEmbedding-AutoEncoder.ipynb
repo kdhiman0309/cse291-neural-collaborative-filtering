{
 "cells": [
  {
   "cell_type": "code",
   "execution_count": 73,
   "metadata": {},
   "outputs": [],
   "source": [
    "import pandas as pd\n",
    "import numpy as np\n",
    "import keras\n",
    "import random"
   ]
  },
  {
   "cell_type": "code",
   "execution_count": 10,
   "metadata": {},
   "outputs": [
    {
     "data": {
      "text/html": [
       "<div>\n",
       "<style>\n",
       "    .dataframe thead tr:only-child th {\n",
       "        text-align: right;\n",
       "    }\n",
       "\n",
       "    .dataframe thead th {\n",
       "        text-align: left;\n",
       "    }\n",
       "\n",
       "    .dataframe tbody tr th {\n",
       "        vertical-align: top;\n",
       "    }\n",
       "</style>\n",
       "<table border=\"1\" class=\"dataframe\">\n",
       "  <thead>\n",
       "    <tr style=\"text-align: right;\">\n",
       "      <th></th>\n",
       "      <th>movieId_org</th>\n",
       "      <th>Description</th>\n",
       "      <th>Genre</th>\n",
       "      <th>Year</th>\n",
       "      <th>ContentRating</th>\n",
       "      <th>Year_B</th>\n",
       "      <th>Length_B</th>\n",
       "      <th>ItemID</th>\n",
       "      <th>count</th>\n",
       "    </tr>\n",
       "    <tr>\n",
       "      <th>movieId_mapped</th>\n",
       "      <th></th>\n",
       "      <th></th>\n",
       "      <th></th>\n",
       "      <th></th>\n",
       "      <th></th>\n",
       "      <th></th>\n",
       "      <th></th>\n",
       "      <th></th>\n",
       "      <th></th>\n",
       "    </tr>\n",
       "  </thead>\n",
       "  <tbody>\n",
       "    <tr>\n",
       "      <th>1</th>\n",
       "      <td>1</td>\n",
       "      <td>[0.0, 0.0, 0.0, 0.0, 0.0, 0.0, 0.0, 0.0, 0.0, ...</td>\n",
       "      <td>[0, 0, 1, 0, 0, 0, 0, 0, 0, 0, 0, 0, 0, 0, 0, ...</td>\n",
       "      <td>[0, 1, 0, 0, 0, 0]</td>\n",
       "      <td>[0, 1, 0, 0, 0, 0]</td>\n",
       "      <td>1995</td>\n",
       "      <td>80</td>\n",
       "      <td>1</td>\n",
       "      <td>1809</td>\n",
       "    </tr>\n",
       "    <tr>\n",
       "      <th>2</th>\n",
       "      <td>2</td>\n",
       "      <td>[0.0, 0.0, 0.0, 0.0, 0.0, 0.0, 0.0, 0.0, 0.0, ...</td>\n",
       "      <td>[0, 0, 1, 0, 0, 0, 0, 0, 1, 0, 0, 0, 0, 0, 0, ...</td>\n",
       "      <td>[0, 1, 0, 0, 0, 0]</td>\n",
       "      <td>[0, 0, 0, 1, 0, 0]</td>\n",
       "      <td>1995</td>\n",
       "      <td>80</td>\n",
       "      <td>2</td>\n",
       "      <td>619</td>\n",
       "    </tr>\n",
       "    <tr>\n",
       "      <th>3</th>\n",
       "      <td>3</td>\n",
       "      <td>[0.0, 0.0, 0.0, 0.0, 0.0, 0.0, 0.0, 0.0, 0.0, ...</td>\n",
       "      <td>[0, 0, 0, 0, 0, 0, 0, 0, 0, 0, 0, 0, 0, 0, 0, ...</td>\n",
       "      <td>[0, 1, 0, 0, 0, 0]</td>\n",
       "      <td>[1, 0, 0, 0, 0, 0]</td>\n",
       "      <td>1995</td>\n",
       "      <td>80</td>\n",
       "      <td>3</td>\n",
       "      <td>100</td>\n",
       "    </tr>\n",
       "    <tr>\n",
       "      <th>4</th>\n",
       "      <td>4</td>\n",
       "      <td>[0.0, 0.0, 0.0, 0.0, 0.37513907199, 0.0, 0.0, ...</td>\n",
       "      <td>[0, 0, 0, 0, 0, 0, 0, 0, 0, 0, 0, 0, 0, 0, 1, ...</td>\n",
       "      <td>[0, 1, 0, 0, 0, 0]</td>\n",
       "      <td>[0, 0, 0, 0, 0, 1]</td>\n",
       "      <td>1995</td>\n",
       "      <td>120</td>\n",
       "      <td>4</td>\n",
       "      <td>16</td>\n",
       "    </tr>\n",
       "    <tr>\n",
       "      <th>5</th>\n",
       "      <td>5</td>\n",
       "      <td>[0.0, 0.0, 0.0, 0.0, 0.0, 0.0, 0.0, 0.0, 0.0, ...</td>\n",
       "      <td>[0, 0, 0, 0, 0, 0, 0, 0, 1, 0, 0, 0, 0, 0, 0, ...</td>\n",
       "      <td>[0, 1, 0, 0, 0, 0]</td>\n",
       "      <td>[0, 0, 0, 1, 0, 0]</td>\n",
       "      <td>1995</td>\n",
       "      <td>80</td>\n",
       "      <td>5</td>\n",
       "      <td>235</td>\n",
       "    </tr>\n",
       "  </tbody>\n",
       "</table>\n",
       "</div>"
      ],
      "text/plain": [
       "                movieId_org  \\\n",
       "movieId_mapped                \n",
       "1                         1   \n",
       "2                         2   \n",
       "3                         3   \n",
       "4                         4   \n",
       "5                         5   \n",
       "\n",
       "                                                      Description  \\\n",
       "movieId_mapped                                                      \n",
       "1               [0.0, 0.0, 0.0, 0.0, 0.0, 0.0, 0.0, 0.0, 0.0, ...   \n",
       "2               [0.0, 0.0, 0.0, 0.0, 0.0, 0.0, 0.0, 0.0, 0.0, ...   \n",
       "3               [0.0, 0.0, 0.0, 0.0, 0.0, 0.0, 0.0, 0.0, 0.0, ...   \n",
       "4               [0.0, 0.0, 0.0, 0.0, 0.37513907199, 0.0, 0.0, ...   \n",
       "5               [0.0, 0.0, 0.0, 0.0, 0.0, 0.0, 0.0, 0.0, 0.0, ...   \n",
       "\n",
       "                                                            Genre  \\\n",
       "movieId_mapped                                                      \n",
       "1               [0, 0, 1, 0, 0, 0, 0, 0, 0, 0, 0, 0, 0, 0, 0, ...   \n",
       "2               [0, 0, 1, 0, 0, 0, 0, 0, 1, 0, 0, 0, 0, 0, 0, ...   \n",
       "3               [0, 0, 0, 0, 0, 0, 0, 0, 0, 0, 0, 0, 0, 0, 0, ...   \n",
       "4               [0, 0, 0, 0, 0, 0, 0, 0, 0, 0, 0, 0, 0, 0, 1, ...   \n",
       "5               [0, 0, 0, 0, 0, 0, 0, 0, 1, 0, 0, 0, 0, 0, 0, ...   \n",
       "\n",
       "                              Year       ContentRating  Year_B  Length_B  \\\n",
       "movieId_mapped                                                             \n",
       "1               [0, 1, 0, 0, 0, 0]  [0, 1, 0, 0, 0, 0]    1995        80   \n",
       "2               [0, 1, 0, 0, 0, 0]  [0, 0, 0, 1, 0, 0]    1995        80   \n",
       "3               [0, 1, 0, 0, 0, 0]  [1, 0, 0, 0, 0, 0]    1995        80   \n",
       "4               [0, 1, 0, 0, 0, 0]  [0, 0, 0, 0, 0, 1]    1995       120   \n",
       "5               [0, 1, 0, 0, 0, 0]  [0, 0, 0, 1, 0, 0]    1995        80   \n",
       "\n",
       "                ItemID  count  \n",
       "movieId_mapped                 \n",
       "1                    1   1809  \n",
       "2                    2    619  \n",
       "3                    3    100  \n",
       "4                    4     16  \n",
       "5                    5    235  "
      ]
     },
     "execution_count": 10,
     "metadata": {},
     "output_type": "execute_result"
    }
   ],
   "source": [
    "item_features = pd.read_pickle(\"data/movielens20M.itemfeatures.pkl\")\n",
    "item_features.head()"
   ]
  },
  {
   "cell_type": "code",
   "execution_count": 11,
   "metadata": {
    "collapsed": true
   },
   "outputs": [],
   "source": [
    "item_all = pd.read_pickle(\"movie_features_v3.pkl\")"
   ]
  },
  {
   "cell_type": "code",
   "execution_count": 15,
   "metadata": {},
   "outputs": [],
   "source": [
    "df_test = pd.read_pickle(\"data/movielens20M.testColdStart.data\")\n",
    "test_items = set(df_test[\"movieId_org\"].unique())"
   ]
  },
  {
   "cell_type": "code",
   "execution_count": 31,
   "metadata": {},
   "outputs": [
    {
     "data": {
      "text/plain": [
       "(8702, 9)"
      ]
     },
     "execution_count": 31,
     "metadata": {},
     "output_type": "execute_result"
    }
   ],
   "source": [
    "train_df = item_all[item_all[\"movieId\"].apply(lambda x: x not in test_items)]\n",
    "train_df.shape"
   ]
  },
  {
   "cell_type": "code",
   "execution_count": 30,
   "metadata": {},
   "outputs": [
    {
     "data": {
      "text/plain": [
       "(425, 9)"
      ]
     },
     "execution_count": 30,
     "metadata": {},
     "output_type": "execute_result"
    }
   ],
   "source": [
    "test_df = item_all[item_all[\"movieId\"].apply(lambda x: x in test_items)]\n",
    "test_df.shape"
   ]
  },
  {
   "cell_type": "code",
   "execution_count": 35,
   "metadata": {},
   "outputs": [
    {
     "data": {
      "text/html": [
       "<div>\n",
       "<style>\n",
       "    .dataframe thead tr:only-child th {\n",
       "        text-align: right;\n",
       "    }\n",
       "\n",
       "    .dataframe thead th {\n",
       "        text-align: left;\n",
       "    }\n",
       "\n",
       "    .dataframe tbody tr th {\n",
       "        vertical-align: top;\n",
       "    }\n",
       "</style>\n",
       "<table border=\"1\" class=\"dataframe\">\n",
       "  <thead>\n",
       "    <tr style=\"text-align: right;\">\n",
       "      <th></th>\n",
       "      <th>movieId</th>\n",
       "      <th>storyline</th>\n",
       "      <th>description</th>\n",
       "      <th>description_encoded</th>\n",
       "      <th>genre_encoded</th>\n",
       "      <th>year_encoded</th>\n",
       "      <th>content_rating_encoded</th>\n",
       "      <th>year_binned</th>\n",
       "      <th>length_binned</th>\n",
       "    </tr>\n",
       "    <tr>\n",
       "      <th>movieId</th>\n",
       "      <th></th>\n",
       "      <th></th>\n",
       "      <th></th>\n",
       "      <th></th>\n",
       "      <th></th>\n",
       "      <th></th>\n",
       "      <th></th>\n",
       "      <th></th>\n",
       "      <th></th>\n",
       "    </tr>\n",
       "  </thead>\n",
       "  <tbody>\n",
       "    <tr>\n",
       "      <th>1</th>\n",
       "      <td>1</td>\n",
       "      <td>A little boy named Andy loves to be in his roo...</td>\n",
       "      <td>A cowboy doll is profoundly threatened and jea...</td>\n",
       "      <td>[0.0, 0.0, 0.0, 0.0, 0.0, 0.0, 0.0, 0.0, 0.0, ...</td>\n",
       "      <td>[0, 0, 1, 0, 0, 0, 0, 0, 0, 0, 0, 0, 0, 0, 0, ...</td>\n",
       "      <td>[0, 1, 0, 0, 0, 0]</td>\n",
       "      <td>[0, 1, 0, 0, 0, 0]</td>\n",
       "      <td>1995</td>\n",
       "      <td>80</td>\n",
       "    </tr>\n",
       "    <tr>\n",
       "      <th>2</th>\n",
       "      <td>2</td>\n",
       "      <td>After being trapped in a jungle board game for...</td>\n",
       "      <td>When two kids find and play a magical board ga...</td>\n",
       "      <td>[0.0, 0.0, 0.0, 0.0, 0.0, 0.0, 0.0, 0.0, 0.0, ...</td>\n",
       "      <td>[0, 0, 1, 0, 0, 0, 0, 0, 1, 0, 0, 0, 0, 0, 0, ...</td>\n",
       "      <td>[0, 1, 0, 0, 0, 0]</td>\n",
       "      <td>[0, 0, 0, 1, 0, 0]</td>\n",
       "      <td>1995</td>\n",
       "      <td>80</td>\n",
       "    </tr>\n",
       "    <tr>\n",
       "      <th>3</th>\n",
       "      <td>3</td>\n",
       "      <td>Things don't seem to change much in Wabasha Co...</td>\n",
       "      <td>John and Max resolve to save their beloved bai...</td>\n",
       "      <td>[0.0, 0.0, 0.0, 0.0, 0.0, 0.0, 0.0, 0.0, 0.0, ...</td>\n",
       "      <td>[0, 0, 0, 0, 0, 0, 0, 0, 0, 0, 0, 0, 0, 0, 0, ...</td>\n",
       "      <td>[0, 1, 0, 0, 0, 0]</td>\n",
       "      <td>[1, 0, 0, 0, 0, 0]</td>\n",
       "      <td>1995</td>\n",
       "      <td>80</td>\n",
       "    </tr>\n",
       "    <tr>\n",
       "      <th>4</th>\n",
       "      <td>4</td>\n",
       "      <td>This story based on the best selling novel by ...</td>\n",
       "      <td>Based on Terry McMillan's novel, this film fol...</td>\n",
       "      <td>[0.0, 0.0, 0.0, 0.0, 0.37513907199, 0.0, 0.0, ...</td>\n",
       "      <td>[0, 0, 0, 0, 0, 0, 0, 0, 0, 0, 0, 0, 0, 0, 1, ...</td>\n",
       "      <td>[0, 1, 0, 0, 0, 0]</td>\n",
       "      <td>[0, 0, 0, 0, 0, 1]</td>\n",
       "      <td>1995</td>\n",
       "      <td>120</td>\n",
       "    </tr>\n",
       "    <tr>\n",
       "      <th>5</th>\n",
       "      <td>5</td>\n",
       "      <td>In this sequel to \"Father of the Bride\", Georg...</td>\n",
       "      <td>George Banks must deal not only with the pregn...</td>\n",
       "      <td>[0.0, 0.0, 0.0, 0.0, 0.0, 0.0, 0.0, 0.0, 0.0, ...</td>\n",
       "      <td>[0, 0, 0, 0, 0, 0, 0, 0, 1, 0, 0, 0, 0, 0, 0, ...</td>\n",
       "      <td>[0, 1, 0, 0, 0, 0]</td>\n",
       "      <td>[0, 0, 0, 1, 0, 0]</td>\n",
       "      <td>1995</td>\n",
       "      <td>80</td>\n",
       "    </tr>\n",
       "  </tbody>\n",
       "</table>\n",
       "</div>"
      ],
      "text/plain": [
       "         movieId                                          storyline  \\\n",
       "movieId                                                               \n",
       "1              1  A little boy named Andy loves to be in his roo...   \n",
       "2              2  After being trapped in a jungle board game for...   \n",
       "3              3  Things don't seem to change much in Wabasha Co...   \n",
       "4              4  This story based on the best selling novel by ...   \n",
       "5              5  In this sequel to \"Father of the Bride\", Georg...   \n",
       "\n",
       "                                               description  \\\n",
       "movieId                                                      \n",
       "1        A cowboy doll is profoundly threatened and jea...   \n",
       "2        When two kids find and play a magical board ga...   \n",
       "3        John and Max resolve to save their beloved bai...   \n",
       "4        Based on Terry McMillan's novel, this film fol...   \n",
       "5        George Banks must deal not only with the pregn...   \n",
       "\n",
       "                                       description_encoded  \\\n",
       "movieId                                                      \n",
       "1        [0.0, 0.0, 0.0, 0.0, 0.0, 0.0, 0.0, 0.0, 0.0, ...   \n",
       "2        [0.0, 0.0, 0.0, 0.0, 0.0, 0.0, 0.0, 0.0, 0.0, ...   \n",
       "3        [0.0, 0.0, 0.0, 0.0, 0.0, 0.0, 0.0, 0.0, 0.0, ...   \n",
       "4        [0.0, 0.0, 0.0, 0.0, 0.37513907199, 0.0, 0.0, ...   \n",
       "5        [0.0, 0.0, 0.0, 0.0, 0.0, 0.0, 0.0, 0.0, 0.0, ...   \n",
       "\n",
       "                                             genre_encoded  \\\n",
       "movieId                                                      \n",
       "1        [0, 0, 1, 0, 0, 0, 0, 0, 0, 0, 0, 0, 0, 0, 0, ...   \n",
       "2        [0, 0, 1, 0, 0, 0, 0, 0, 1, 0, 0, 0, 0, 0, 0, ...   \n",
       "3        [0, 0, 0, 0, 0, 0, 0, 0, 0, 0, 0, 0, 0, 0, 0, ...   \n",
       "4        [0, 0, 0, 0, 0, 0, 0, 0, 0, 0, 0, 0, 0, 0, 1, ...   \n",
       "5        [0, 0, 0, 0, 0, 0, 0, 0, 1, 0, 0, 0, 0, 0, 0, ...   \n",
       "\n",
       "               year_encoded content_rating_encoded  year_binned  length_binned  \n",
       "movieId                                                                         \n",
       "1        [0, 1, 0, 0, 0, 0]     [0, 1, 0, 0, 0, 0]         1995             80  \n",
       "2        [0, 1, 0, 0, 0, 0]     [0, 0, 0, 1, 0, 0]         1995             80  \n",
       "3        [0, 1, 0, 0, 0, 0]     [1, 0, 0, 0, 0, 0]         1995             80  \n",
       "4        [0, 1, 0, 0, 0, 0]     [0, 0, 0, 0, 0, 1]         1995            120  \n",
       "5        [0, 1, 0, 0, 0, 0]     [0, 0, 0, 1, 0, 0]         1995             80  "
      ]
     },
     "execution_count": 35,
     "metadata": {},
     "output_type": "execute_result"
    }
   ],
   "source": [
    "train_df.head()"
   ]
  },
  {
   "cell_type": "code",
   "execution_count": 50,
   "metadata": {},
   "outputs": [
    {
     "data": {
      "text/plain": [
       "['young',\n",
       " 'woman',\n",
       " 'discovers',\n",
       " 'elite',\n",
       " 'manhattan',\n",
       " 'preparatory',\n",
       " 'school',\n",
       " 'harbors',\n",
       " 'dark',\n",
       " 'secret']"
      ]
     },
     "execution_count": 50,
     "metadata": {},
     "output_type": "execute_result"
    }
   ],
   "source": []
  },
  {
   "cell_type": "code",
   "execution_count": 8,
   "metadata": {},
   "outputs": [
    {
     "name": "stderr",
     "output_type": "stream",
     "text": [
      "C:\\Users\\kdhim\\Anaconda3\\lib\\site-packages\\gensim\\utils.py:862: UserWarning: detected Windows; aliasing chunkize to chunkize_serial\n",
      "  warnings.warn(\"detected Windows; aliasing chunkize to chunkize_serial\")\n"
     ]
    }
   ],
   "source": [
    "import gensim"
   ]
  },
  {
   "cell_type": "code",
   "execution_count": 45,
   "metadata": {},
   "outputs": [],
   "source": [
    "import nltk\n",
    "from nltk.corpus import stopwords"
   ]
  },
  {
   "cell_type": "code",
   "execution_count": 48,
   "metadata": {},
   "outputs": [],
   "source": [
    "stopWords = set(stopwords.words('english'))"
   ]
  },
  {
   "cell_type": "code",
   "execution_count": 101,
   "metadata": {},
   "outputs": [],
   "source": [
    "train_corpus = []\n",
    "_id=0\n",
    "for i in train_df.index:\n",
    "    train_corpus += [gensim.models.doc2vec.TaggedDocument(\n",
    "            #[x for x in gensim.utils.simple_preprocess(train_df.loc[i][\"description\"]) if x not in stopWords], \n",
    "            gensim.utils.simple_preprocess(train_df.loc[i][\"storyline\"]),\n",
    "            [_id])]\n",
    "    _id+=1"
   ]
  },
  {
   "cell_type": "code",
   "execution_count": null,
   "metadata": {
    "collapsed": true
   },
   "outputs": [],
   "source": []
  },
  {
   "cell_type": "code",
   "execution_count": 102,
   "metadata": {},
   "outputs": [],
   "source": [
    "test_corpus = []\n",
    "for i in test_df.index:\n",
    "    test_corpus += [\n",
    "            #[x for x in gensim.utils.simple_preprocess(test_df.loc[i][\"description\"]) if x not in stopWords]\n",
    "            gensim.utils.simple_preprocess(test_df.loc[i][\"storyline\"]),\n",
    "        ]"
   ]
  },
  {
   "cell_type": "code",
   "execution_count": 132,
   "metadata": {
    "collapsed": true
   },
   "outputs": [],
   "source": [
    "model = gensim.models.doc2vec.Doc2Vec(size=30, min_count=2, iter=100)"
   ]
  },
  {
   "cell_type": "code",
   "execution_count": 133,
   "metadata": {},
   "outputs": [],
   "source": [
    "model.build_vocab(train_corpus)"
   ]
  },
  {
   "cell_type": "code",
   "execution_count": 134,
   "metadata": {},
   "outputs": [
    {
     "data": {
      "text/plain": [
       "13381784"
      ]
     },
     "execution_count": 134,
     "metadata": {},
     "output_type": "execute_result"
    }
   ],
   "source": [
    "model.train(train_data, total_examples=model.corpus_count, epochs=model.iter)"
   ]
  },
  {
   "cell_type": "code",
   "execution_count": 135,
   "metadata": {},
   "outputs": [
    {
     "data": {
      "text/plain": [
       "array([ 0.57298577,  0.18953863, -0.52014226,  0.2577199 ,  0.24072868,\n",
       "        0.5637868 , -0.22773108,  0.15333141, -0.55589378, -0.06717356,\n",
       "        0.08718319,  0.0968299 , -0.15646474,  0.52714896, -0.33003193,\n",
       "       -0.22248702,  0.33629626, -0.80006927,  0.22962482,  0.16701387,\n",
       "       -0.4404929 , -0.52197134,  0.13074176, -0.43820259, -0.37652332,\n",
       "       -0.51142257,  0.29351631,  0.43814117, -0.0851125 , -0.43116009], dtype=float32)"
      ]
     },
     "execution_count": 135,
     "metadata": {},
     "output_type": "execute_result"
    }
   ],
   "source": [
    "model.infer_vector(test_corpus[10])"
   ]
  },
  {
   "cell_type": "code",
   "execution_count": 136,
   "metadata": {},
   "outputs": [
    {
     "name": "stdout",
     "output_type": "stream",
     "text": [
      "Test Document (315): «sir laurence olivier is making movie in london young colin clark an eager film student wants to be involved and he navigates himself job on the set when film star marilyn monroe arrives for the start of shooting all of london is excited to see the blonde bombshell while olivier is struggling to meet her many demands and acting ineptness and colin is intrigued by her colin intrigue is met when marilyn invites him into her inner world where she struggles with her fame her beauty and her desire to be great actress»\n",
      "\n",
      "SIMILAR/DISSIMILAR DOCS PER MODEL Doc2Vec(dm/m,d30,n5,w5,mc2,s0.001,t3):\n",
      "\n",
      "1419\n",
      "MOST (1419, 0.6379808187484741): «flamboyant glasgow hairdresser crawford mackinzie gets letter from the world hairdresser international federation inviting him to its prestigious annual contest in filmmaker martin samuels is making fly on the wall documentary about crawford he and the crew go too after maxing out his credit card at the century plaza hotel crawford discovers he been invited to participate in the audience not the contest he tries every angle imaginable to get in the competition he phones fellow scot sean connery he gets union card he asks the reigning champion for help and he connects with connery publicist who having bad hair day will he succeed for the little people»\n",
      "\n",
      "8153\n",
      "MEDIAN (8153, -0.05570349097251892): «lone wolf drifter is traveling through the desolate north dakota prairie during harsh winter in his beat up station wagon towing an equally beat up trailer which probably contains all his worldly possessions his only companion is series of self help cassette tapes one which describes the path to romantic love he comes across deserted broken down pickup truck and further down the road the almost frozen dead body of its driver nathaniel shoemaker who he saves from dying in their travels the drifter learns directly from nathan and through very descriptive letters of nathan that the drifter reads while nathan is unconscious that nathan is going to pick up his pen pal girlfriend from prison she who has given him the nickname nodak they have been corresponding for three years during which time they have fallen in love despite not knowing what the other looks like largely due to his isolation and because of the cassette tapes which he has memorized the drifter believes»\n",
      "\n",
      "1054\n",
      "LEAST (1054, -0.6776720285415649): «in world where vampires walk the earth blade has goal his goal is to rid the world of all vampire evil when blade witnesses vampire bite dr karen jenson he fights away the beast and takes jenson back to his hideout here alongside abraham whistler blade attempts to help heal jenson the vampire quinn who was attacked by blade reports back to his master deacon frost who is planning huge surprise for the human population»\n",
      "\n"
     ]
    }
   ],
   "source": [
    "doc_id = random.randint(0, len(test_corpus))\n",
    "inferred_vector = model.infer_vector(test_corpus[doc_id])\n",
    "sims = model.docvecs.most_similar([inferred_vector], topn=len(model.docvecs))\n",
    "#print(sims)\n",
    "# Compare and print the most/median/least similar documents from the train corpus\n",
    "print('Test Document ({}): «{}»\\n'.format(doc_id, ' '.join(test_corpus[doc_id])))\n",
    "print(u'SIMILAR/DISSIMILAR DOCS PER MODEL %s:\\n' % model)\n",
    "for label, index in [('MOST', 0), ('MEDIAN', len(sims)//2), ('LEAST', len(sims) - 1)]:\n",
    "    print(sims[index][0])\n",
    "    print(u'%s %s: «%s»\\n' % (label, sims[index], ' '.join(train_corpus[sims[index][0]].words)))"
   ]
  },
  {
   "cell_type": "code",
   "execution_count": 137,
   "metadata": {
    "collapsed": true
   },
   "outputs": [],
   "source": [
    "model.save(\"gensim_doc2vec\")"
   ]
  },
  {
   "cell_type": "code",
   "execution_count": 140,
   "metadata": {},
   "outputs": [],
   "source": [
    "item_all.head()\n",
    "item_all.index = item_all[\"movieId\"]"
   ]
  },
  {
   "cell_type": "code",
   "execution_count": 143,
   "metadata": {},
   "outputs": [],
   "source": [
    "item_features[\"Storyline_gensim\"]=item_features[\"movieId_org\"].apply(lambda x: \n",
    "                                   model.infer_vector(\n",
    "                                       item_all.loc[x][\"storyline\"])\n",
    "                                  )"
   ]
  },
  {
   "cell_type": "code",
   "execution_count": 145,
   "metadata": {},
   "outputs": [],
   "source": [
    "item_features.to_pickle(\"data/movielens20M.itemfeatures_gensim.pkl\")"
   ]
  },
  {
   "cell_type": "code",
   "execution_count": 147,
   "metadata": {},
   "outputs": [
    {
     "data": {
      "text/html": [
       "<div>\n",
       "<style>\n",
       "    .dataframe thead tr:only-child th {\n",
       "        text-align: right;\n",
       "    }\n",
       "\n",
       "    .dataframe thead th {\n",
       "        text-align: left;\n",
       "    }\n",
       "\n",
       "    .dataframe tbody tr th {\n",
       "        vertical-align: top;\n",
       "    }\n",
       "</style>\n",
       "<table border=\"1\" class=\"dataframe\">\n",
       "  <thead>\n",
       "    <tr style=\"text-align: right;\">\n",
       "      <th></th>\n",
       "      <th>movieId_org</th>\n",
       "      <th>Description</th>\n",
       "      <th>Genre</th>\n",
       "      <th>Year</th>\n",
       "      <th>ContentRating</th>\n",
       "      <th>Year_B</th>\n",
       "      <th>Length_B</th>\n",
       "      <th>ItemID</th>\n",
       "      <th>count</th>\n",
       "      <th>Storyline_gensim</th>\n",
       "    </tr>\n",
       "    <tr>\n",
       "      <th>movieId_mapped</th>\n",
       "      <th></th>\n",
       "      <th></th>\n",
       "      <th></th>\n",
       "      <th></th>\n",
       "      <th></th>\n",
       "      <th></th>\n",
       "      <th></th>\n",
       "      <th></th>\n",
       "      <th></th>\n",
       "      <th></th>\n",
       "    </tr>\n",
       "  </thead>\n",
       "  <tbody>\n",
       "    <tr>\n",
       "      <th>2413</th>\n",
       "      <td>131243</td>\n",
       "      <td>[0.0, 0.0, 0.0, 0.0, 0.0, 0.0, 0.0, 0.0, 0.0, ...</td>\n",
       "      <td>[0, 0, 0, 0, 0, 0, 0, 0, 0, 0, 0, 0, 0, 0, 0, ...</td>\n",
       "      <td>[0, 0, 1, 0, 0, 0]</td>\n",
       "      <td>[0, 0, 0, 0, 1, 0]</td>\n",
       "      <td>2000</td>\n",
       "      <td>40</td>\n",
       "      <td>2413</td>\n",
       "      <td>1</td>\n",
       "      <td>[0.00227779, -0.0121241, -0.00863728, 0.001935...</td>\n",
       "    </tr>\n",
       "    <tr>\n",
       "      <th>166</th>\n",
       "      <td>131248</td>\n",
       "      <td>[0.0, 0.0, 0.0, 0.0, 0.0, 0.0, 0.0, 0.0, 0.0, ...</td>\n",
       "      <td>[0, 0, 1, 0, 0, 0, 0, 0, 0, 0, 0, 0, 0, 0, 0, ...</td>\n",
       "      <td>[0, 0, 0, 1, 0, 0]</td>\n",
       "      <td>[0, 1, 0, 0, 0, 0]</td>\n",
       "      <td>2005</td>\n",
       "      <td>40</td>\n",
       "      <td>166</td>\n",
       "      <td>1</td>\n",
       "      <td>[0.00676804, 0.0147747, -0.00501439, -0.011021...</td>\n",
       "    </tr>\n",
       "    <tr>\n",
       "      <th>2443</th>\n",
       "      <td>131252</td>\n",
       "      <td>[0.0, 0.0, 0.0, 0.0, 0.0, 0.0, 0.0, 0.0, 0.0, ...</td>\n",
       "      <td>[0, 0, 0, 0, 0, 0, 0, 0, 0, 0, 0, 0, 1, 0, 0, ...</td>\n",
       "      <td>[0, 0, 1, 0, 0, 0]</td>\n",
       "      <td>[0, 0, 0, 0, 1, 0]</td>\n",
       "      <td>2000</td>\n",
       "      <td>0</td>\n",
       "      <td>2443</td>\n",
       "      <td>1</td>\n",
       "      <td>[-0.015437, 0.0151046, 0.00226594, 0.0017954, ...</td>\n",
       "    </tr>\n",
       "    <tr>\n",
       "      <th>174</th>\n",
       "      <td>131256</td>\n",
       "      <td>[0.0, 0.0, 0.0, 0.0, 0.0, 0.0, 0.0, 0.0, 0.0, ...</td>\n",
       "      <td>[0, 0, 0, 0, 0, 0, 0, 0, 0, 0, 0, 0, 0, 0, 0, ...</td>\n",
       "      <td>[0, 0, 1, 0, 0, 0]</td>\n",
       "      <td>[0, 0, 0, 0, 1, 0]</td>\n",
       "      <td>2000</td>\n",
       "      <td>80</td>\n",
       "      <td>174</td>\n",
       "      <td>1</td>\n",
       "      <td>[-0.0142843, -0.0146538, 0.00742279, 0.0073224...</td>\n",
       "    </tr>\n",
       "    <tr>\n",
       "      <th>181</th>\n",
       "      <td>131262</td>\n",
       "      <td>[0.0, 0.0, 0.0, 0.0, 0.0, 0.0, 0.0, 0.0, 0.0, ...</td>\n",
       "      <td>[0, 0, 1, 0, 0, 1, 0, 0, 0, 0, 0, 0, 0, 0, 0, ...</td>\n",
       "      <td>[0, 0, 0, 0, 1, 0]</td>\n",
       "      <td>[1, 0, 0, 0, 0, 0]</td>\n",
       "      <td>2010</td>\n",
       "      <td>80</td>\n",
       "      <td>181</td>\n",
       "      <td>1</td>\n",
       "      <td>[-0.00897443, -0.0108254, -0.00711309, 0.00412...</td>\n",
       "    </tr>\n",
       "  </tbody>\n",
       "</table>\n",
       "</div>"
      ],
      "text/plain": [
       "                movieId_org  \\\n",
       "movieId_mapped                \n",
       "2413                 131243   \n",
       "166                  131248   \n",
       "2443                 131252   \n",
       "174                  131256   \n",
       "181                  131262   \n",
       "\n",
       "                                                      Description  \\\n",
       "movieId_mapped                                                      \n",
       "2413            [0.0, 0.0, 0.0, 0.0, 0.0, 0.0, 0.0, 0.0, 0.0, ...   \n",
       "166             [0.0, 0.0, 0.0, 0.0, 0.0, 0.0, 0.0, 0.0, 0.0, ...   \n",
       "2443            [0.0, 0.0, 0.0, 0.0, 0.0, 0.0, 0.0, 0.0, 0.0, ...   \n",
       "174             [0.0, 0.0, 0.0, 0.0, 0.0, 0.0, 0.0, 0.0, 0.0, ...   \n",
       "181             [0.0, 0.0, 0.0, 0.0, 0.0, 0.0, 0.0, 0.0, 0.0, ...   \n",
       "\n",
       "                                                            Genre  \\\n",
       "movieId_mapped                                                      \n",
       "2413            [0, 0, 0, 0, 0, 0, 0, 0, 0, 0, 0, 0, 0, 0, 0, ...   \n",
       "166             [0, 0, 1, 0, 0, 0, 0, 0, 0, 0, 0, 0, 0, 0, 0, ...   \n",
       "2443            [0, 0, 0, 0, 0, 0, 0, 0, 0, 0, 0, 0, 1, 0, 0, ...   \n",
       "174             [0, 0, 0, 0, 0, 0, 0, 0, 0, 0, 0, 0, 0, 0, 0, ...   \n",
       "181             [0, 0, 1, 0, 0, 1, 0, 0, 0, 0, 0, 0, 0, 0, 0, ...   \n",
       "\n",
       "                              Year       ContentRating  Year_B  Length_B  \\\n",
       "movieId_mapped                                                             \n",
       "2413            [0, 0, 1, 0, 0, 0]  [0, 0, 0, 0, 1, 0]    2000        40   \n",
       "166             [0, 0, 0, 1, 0, 0]  [0, 1, 0, 0, 0, 0]    2005        40   \n",
       "2443            [0, 0, 1, 0, 0, 0]  [0, 0, 0, 0, 1, 0]    2000         0   \n",
       "174             [0, 0, 1, 0, 0, 0]  [0, 0, 0, 0, 1, 0]    2000        80   \n",
       "181             [0, 0, 0, 0, 1, 0]  [1, 0, 0, 0, 0, 0]    2010        80   \n",
       "\n",
       "                ItemID  count  \\\n",
       "movieId_mapped                  \n",
       "2413              2413      1   \n",
       "166                166      1   \n",
       "2443              2443      1   \n",
       "174                174      1   \n",
       "181                181      1   \n",
       "\n",
       "                                                 Storyline_gensim  \n",
       "movieId_mapped                                                     \n",
       "2413            [0.00227779, -0.0121241, -0.00863728, 0.001935...  \n",
       "166             [0.00676804, 0.0147747, -0.00501439, -0.011021...  \n",
       "2443            [-0.015437, 0.0151046, 0.00226594, 0.0017954, ...  \n",
       "174             [-0.0142843, -0.0146538, 0.00742279, 0.0073224...  \n",
       "181             [-0.00897443, -0.0108254, -0.00711309, 0.00412...  "
      ]
     },
     "execution_count": 147,
     "metadata": {},
     "output_type": "execute_result"
    }
   ],
   "source": [
    "item_features.tail()"
   ]
  },
  {
   "cell_type": "code",
   "execution_count": 150,
   "metadata": {},
   "outputs": [
    {
     "data": {
      "text/plain": [
       "8491"
      ]
     },
     "execution_count": 150,
     "metadata": {},
     "output_type": "execute_result"
    }
   ],
   "source": []
  },
  {
   "cell_type": "code",
   "execution_count": null,
   "metadata": {
    "collapsed": true
   },
   "outputs": [],
   "source": []
  }
 ],
 "metadata": {
  "kernelspec": {
   "display_name": "Python 3",
   "language": "python",
   "name": "python3"
  },
  "language_info": {
   "codemirror_mode": {
    "name": "ipython",
    "version": 3
   },
   "file_extension": ".py",
   "mimetype": "text/x-python",
   "name": "python",
   "nbconvert_exporter": "python",
   "pygments_lexer": "ipython3",
   "version": "3.6.2"
  }
 },
 "nbformat": 4,
 "nbformat_minor": 2
}
