{
 "cells": [
  {
   "cell_type": "code",
   "execution_count": 2,
   "metadata": {},
   "outputs": [],
   "source": [
    "import pandas as pd\n",
    "import numpy as np\n",
    "import keras\n",
    "import random"
   ]
  },
  {
   "cell_type": "code",
   "execution_count": 3,
   "metadata": {},
   "outputs": [
    {
     "data": {
      "text/html": [
       "<div>\n",
       "<style>\n",
       "    .dataframe thead tr:only-child th {\n",
       "        text-align: right;\n",
       "    }\n",
       "\n",
       "    .dataframe thead th {\n",
       "        text-align: left;\n",
       "    }\n",
       "\n",
       "    .dataframe tbody tr th {\n",
       "        vertical-align: top;\n",
       "    }\n",
       "</style>\n",
       "<table border=\"1\" class=\"dataframe\">\n",
       "  <thead>\n",
       "    <tr style=\"text-align: right;\">\n",
       "      <th></th>\n",
       "      <th>movieId_org</th>\n",
       "      <th>Description</th>\n",
       "      <th>Genre</th>\n",
       "      <th>Year</th>\n",
       "      <th>ContentRating</th>\n",
       "      <th>Year_B</th>\n",
       "      <th>Length_B</th>\n",
       "      <th>ItemID</th>\n",
       "      <th>count</th>\n",
       "    </tr>\n",
       "    <tr>\n",
       "      <th>movieId_mapped</th>\n",
       "      <th></th>\n",
       "      <th></th>\n",
       "      <th></th>\n",
       "      <th></th>\n",
       "      <th></th>\n",
       "      <th></th>\n",
       "      <th></th>\n",
       "      <th></th>\n",
       "      <th></th>\n",
       "    </tr>\n",
       "  </thead>\n",
       "  <tbody>\n",
       "    <tr>\n",
       "      <th>1</th>\n",
       "      <td>1</td>\n",
       "      <td>[0.0, 0.0, 0.0, 0.0, 0.0, 0.0, 0.0, 0.0, 0.0, ...</td>\n",
       "      <td>[0, 0, 1, 0, 0, 0, 0, 0, 0, 0, 0, 0, 0, 0, 0, ...</td>\n",
       "      <td>[0, 1, 0, 0, 0, 0]</td>\n",
       "      <td>[0, 1, 0, 0, 0, 0]</td>\n",
       "      <td>1995</td>\n",
       "      <td>80</td>\n",
       "      <td>1</td>\n",
       "      <td>1809</td>\n",
       "    </tr>\n",
       "    <tr>\n",
       "      <th>2</th>\n",
       "      <td>2</td>\n",
       "      <td>[0.0, 0.0, 0.0, 0.0, 0.0, 0.0, 0.0, 0.0, 0.0, ...</td>\n",
       "      <td>[0, 0, 1, 0, 0, 0, 0, 0, 1, 0, 0, 0, 0, 0, 0, ...</td>\n",
       "      <td>[0, 1, 0, 0, 0, 0]</td>\n",
       "      <td>[0, 0, 0, 1, 0, 0]</td>\n",
       "      <td>1995</td>\n",
       "      <td>80</td>\n",
       "      <td>2</td>\n",
       "      <td>619</td>\n",
       "    </tr>\n",
       "    <tr>\n",
       "      <th>3</th>\n",
       "      <td>3</td>\n",
       "      <td>[0.0, 0.0, 0.0, 0.0, 0.0, 0.0, 0.0, 0.0, 0.0, ...</td>\n",
       "      <td>[0, 0, 0, 0, 0, 0, 0, 0, 0, 0, 0, 0, 0, 0, 0, ...</td>\n",
       "      <td>[0, 1, 0, 0, 0, 0]</td>\n",
       "      <td>[1, 0, 0, 0, 0, 0]</td>\n",
       "      <td>1995</td>\n",
       "      <td>80</td>\n",
       "      <td>3</td>\n",
       "      <td>100</td>\n",
       "    </tr>\n",
       "    <tr>\n",
       "      <th>4</th>\n",
       "      <td>4</td>\n",
       "      <td>[0.0, 0.0, 0.0, 0.0, 0.37513907199, 0.0, 0.0, ...</td>\n",
       "      <td>[0, 0, 0, 0, 0, 0, 0, 0, 0, 0, 0, 0, 0, 0, 1, ...</td>\n",
       "      <td>[0, 1, 0, 0, 0, 0]</td>\n",
       "      <td>[0, 0, 0, 0, 0, 1]</td>\n",
       "      <td>1995</td>\n",
       "      <td>120</td>\n",
       "      <td>4</td>\n",
       "      <td>16</td>\n",
       "    </tr>\n",
       "    <tr>\n",
       "      <th>5</th>\n",
       "      <td>5</td>\n",
       "      <td>[0.0, 0.0, 0.0, 0.0, 0.0, 0.0, 0.0, 0.0, 0.0, ...</td>\n",
       "      <td>[0, 0, 0, 0, 0, 0, 0, 0, 1, 0, 0, 0, 0, 0, 0, ...</td>\n",
       "      <td>[0, 1, 0, 0, 0, 0]</td>\n",
       "      <td>[0, 0, 0, 1, 0, 0]</td>\n",
       "      <td>1995</td>\n",
       "      <td>80</td>\n",
       "      <td>5</td>\n",
       "      <td>235</td>\n",
       "    </tr>\n",
       "  </tbody>\n",
       "</table>\n",
       "</div>"
      ],
      "text/plain": [
       "                movieId_org  \\\n",
       "movieId_mapped                \n",
       "1                         1   \n",
       "2                         2   \n",
       "3                         3   \n",
       "4                         4   \n",
       "5                         5   \n",
       "\n",
       "                                                      Description  \\\n",
       "movieId_mapped                                                      \n",
       "1               [0.0, 0.0, 0.0, 0.0, 0.0, 0.0, 0.0, 0.0, 0.0, ...   \n",
       "2               [0.0, 0.0, 0.0, 0.0, 0.0, 0.0, 0.0, 0.0, 0.0, ...   \n",
       "3               [0.0, 0.0, 0.0, 0.0, 0.0, 0.0, 0.0, 0.0, 0.0, ...   \n",
       "4               [0.0, 0.0, 0.0, 0.0, 0.37513907199, 0.0, 0.0, ...   \n",
       "5               [0.0, 0.0, 0.0, 0.0, 0.0, 0.0, 0.0, 0.0, 0.0, ...   \n",
       "\n",
       "                                                            Genre  \\\n",
       "movieId_mapped                                                      \n",
       "1               [0, 0, 1, 0, 0, 0, 0, 0, 0, 0, 0, 0, 0, 0, 0, ...   \n",
       "2               [0, 0, 1, 0, 0, 0, 0, 0, 1, 0, 0, 0, 0, 0, 0, ...   \n",
       "3               [0, 0, 0, 0, 0, 0, 0, 0, 0, 0, 0, 0, 0, 0, 0, ...   \n",
       "4               [0, 0, 0, 0, 0, 0, 0, 0, 0, 0, 0, 0, 0, 0, 1, ...   \n",
       "5               [0, 0, 0, 0, 0, 0, 0, 0, 1, 0, 0, 0, 0, 0, 0, ...   \n",
       "\n",
       "                              Year       ContentRating  Year_B  Length_B  \\\n",
       "movieId_mapped                                                             \n",
       "1               [0, 1, 0, 0, 0, 0]  [0, 1, 0, 0, 0, 0]    1995        80   \n",
       "2               [0, 1, 0, 0, 0, 0]  [0, 0, 0, 1, 0, 0]    1995        80   \n",
       "3               [0, 1, 0, 0, 0, 0]  [1, 0, 0, 0, 0, 0]    1995        80   \n",
       "4               [0, 1, 0, 0, 0, 0]  [0, 0, 0, 0, 0, 1]    1995       120   \n",
       "5               [0, 1, 0, 0, 0, 0]  [0, 0, 0, 1, 0, 0]    1995        80   \n",
       "\n",
       "                ItemID  count  \n",
       "movieId_mapped                 \n",
       "1                    1   1809  \n",
       "2                    2    619  \n",
       "3                    3    100  \n",
       "4                    4     16  \n",
       "5                    5    235  "
      ]
     },
     "execution_count": 3,
     "metadata": {},
     "output_type": "execute_result"
    }
   ],
   "source": [
    "item_features = pd.read_pickle(\"data/movielens20M.itemfeatures.pkl\")\n",
    "item_features.head()"
   ]
  },
  {
   "cell_type": "code",
   "execution_count": 4,
   "metadata": {
    "collapsed": true
   },
   "outputs": [],
   "source": [
    "item_all = pd.read_pickle(\"movie_features_v3.pkl\")"
   ]
  },
  {
   "cell_type": "code",
   "execution_count": 5,
   "metadata": {
    "collapsed": true
   },
   "outputs": [],
   "source": [
    "df_test = pd.read_pickle(\"data/movielens20M.testColdStart.data\")\n",
    "test_items = set(df_test[\"movieId_org\"].unique())"
   ]
  },
  {
   "cell_type": "code",
   "execution_count": 6,
   "metadata": {},
   "outputs": [
    {
     "data": {
      "text/plain": [
       "(8702, 9)"
      ]
     },
     "execution_count": 6,
     "metadata": {},
     "output_type": "execute_result"
    }
   ],
   "source": [
    "train_df = item_all[item_all[\"movieId\"].apply(lambda x: x not in test_items)]\n",
    "train_df.shape"
   ]
  },
  {
   "cell_type": "code",
   "execution_count": 7,
   "metadata": {},
   "outputs": [
    {
     "data": {
      "text/plain": [
       "(425, 9)"
      ]
     },
     "execution_count": 7,
     "metadata": {},
     "output_type": "execute_result"
    }
   ],
   "source": [
    "test_df = item_all[item_all[\"movieId\"].apply(lambda x: x in test_items)]\n",
    "test_df.shape"
   ]
  },
  {
   "cell_type": "code",
   "execution_count": 8,
   "metadata": {},
   "outputs": [
    {
     "data": {
      "text/html": [
       "<div>\n",
       "<style>\n",
       "    .dataframe thead tr:only-child th {\n",
       "        text-align: right;\n",
       "    }\n",
       "\n",
       "    .dataframe thead th {\n",
       "        text-align: left;\n",
       "    }\n",
       "\n",
       "    .dataframe tbody tr th {\n",
       "        vertical-align: top;\n",
       "    }\n",
       "</style>\n",
       "<table border=\"1\" class=\"dataframe\">\n",
       "  <thead>\n",
       "    <tr style=\"text-align: right;\">\n",
       "      <th></th>\n",
       "      <th>movieId</th>\n",
       "      <th>storyline</th>\n",
       "      <th>description</th>\n",
       "      <th>description_encoded</th>\n",
       "      <th>genre_encoded</th>\n",
       "      <th>year_encoded</th>\n",
       "      <th>content_rating_encoded</th>\n",
       "      <th>year_binned</th>\n",
       "      <th>length_binned</th>\n",
       "    </tr>\n",
       "    <tr>\n",
       "      <th>movieId</th>\n",
       "      <th></th>\n",
       "      <th></th>\n",
       "      <th></th>\n",
       "      <th></th>\n",
       "      <th></th>\n",
       "      <th></th>\n",
       "      <th></th>\n",
       "      <th></th>\n",
       "      <th></th>\n",
       "    </tr>\n",
       "  </thead>\n",
       "  <tbody>\n",
       "    <tr>\n",
       "      <th>1</th>\n",
       "      <td>1</td>\n",
       "      <td>A little boy named Andy loves to be in his roo...</td>\n",
       "      <td>A cowboy doll is profoundly threatened and jea...</td>\n",
       "      <td>[0.0, 0.0, 0.0, 0.0, 0.0, 0.0, 0.0, 0.0, 0.0, ...</td>\n",
       "      <td>[0, 0, 1, 0, 0, 0, 0, 0, 0, 0, 0, 0, 0, 0, 0, ...</td>\n",
       "      <td>[0, 1, 0, 0, 0, 0]</td>\n",
       "      <td>[0, 1, 0, 0, 0, 0]</td>\n",
       "      <td>1995</td>\n",
       "      <td>80</td>\n",
       "    </tr>\n",
       "    <tr>\n",
       "      <th>2</th>\n",
       "      <td>2</td>\n",
       "      <td>After being trapped in a jungle board game for...</td>\n",
       "      <td>When two kids find and play a magical board ga...</td>\n",
       "      <td>[0.0, 0.0, 0.0, 0.0, 0.0, 0.0, 0.0, 0.0, 0.0, ...</td>\n",
       "      <td>[0, 0, 1, 0, 0, 0, 0, 0, 1, 0, 0, 0, 0, 0, 0, ...</td>\n",
       "      <td>[0, 1, 0, 0, 0, 0]</td>\n",
       "      <td>[0, 0, 0, 1, 0, 0]</td>\n",
       "      <td>1995</td>\n",
       "      <td>80</td>\n",
       "    </tr>\n",
       "    <tr>\n",
       "      <th>3</th>\n",
       "      <td>3</td>\n",
       "      <td>Things don't seem to change much in Wabasha Co...</td>\n",
       "      <td>John and Max resolve to save their beloved bai...</td>\n",
       "      <td>[0.0, 0.0, 0.0, 0.0, 0.0, 0.0, 0.0, 0.0, 0.0, ...</td>\n",
       "      <td>[0, 0, 0, 0, 0, 0, 0, 0, 0, 0, 0, 0, 0, 0, 0, ...</td>\n",
       "      <td>[0, 1, 0, 0, 0, 0]</td>\n",
       "      <td>[1, 0, 0, 0, 0, 0]</td>\n",
       "      <td>1995</td>\n",
       "      <td>80</td>\n",
       "    </tr>\n",
       "    <tr>\n",
       "      <th>4</th>\n",
       "      <td>4</td>\n",
       "      <td>This story based on the best selling novel by ...</td>\n",
       "      <td>Based on Terry McMillan's novel, this film fol...</td>\n",
       "      <td>[0.0, 0.0, 0.0, 0.0, 0.37513907199, 0.0, 0.0, ...</td>\n",
       "      <td>[0, 0, 0, 0, 0, 0, 0, 0, 0, 0, 0, 0, 0, 0, 1, ...</td>\n",
       "      <td>[0, 1, 0, 0, 0, 0]</td>\n",
       "      <td>[0, 0, 0, 0, 0, 1]</td>\n",
       "      <td>1995</td>\n",
       "      <td>120</td>\n",
       "    </tr>\n",
       "    <tr>\n",
       "      <th>5</th>\n",
       "      <td>5</td>\n",
       "      <td>In this sequel to \"Father of the Bride\", Georg...</td>\n",
       "      <td>George Banks must deal not only with the pregn...</td>\n",
       "      <td>[0.0, 0.0, 0.0, 0.0, 0.0, 0.0, 0.0, 0.0, 0.0, ...</td>\n",
       "      <td>[0, 0, 0, 0, 0, 0, 0, 0, 1, 0, 0, 0, 0, 0, 0, ...</td>\n",
       "      <td>[0, 1, 0, 0, 0, 0]</td>\n",
       "      <td>[0, 0, 0, 1, 0, 0]</td>\n",
       "      <td>1995</td>\n",
       "      <td>80</td>\n",
       "    </tr>\n",
       "  </tbody>\n",
       "</table>\n",
       "</div>"
      ],
      "text/plain": [
       "         movieId                                          storyline  \\\n",
       "movieId                                                               \n",
       "1              1  A little boy named Andy loves to be in his roo...   \n",
       "2              2  After being trapped in a jungle board game for...   \n",
       "3              3  Things don't seem to change much in Wabasha Co...   \n",
       "4              4  This story based on the best selling novel by ...   \n",
       "5              5  In this sequel to \"Father of the Bride\", Georg...   \n",
       "\n",
       "                                               description  \\\n",
       "movieId                                                      \n",
       "1        A cowboy doll is profoundly threatened and jea...   \n",
       "2        When two kids find and play a magical board ga...   \n",
       "3        John and Max resolve to save their beloved bai...   \n",
       "4        Based on Terry McMillan's novel, this film fol...   \n",
       "5        George Banks must deal not only with the pregn...   \n",
       "\n",
       "                                       description_encoded  \\\n",
       "movieId                                                      \n",
       "1        [0.0, 0.0, 0.0, 0.0, 0.0, 0.0, 0.0, 0.0, 0.0, ...   \n",
       "2        [0.0, 0.0, 0.0, 0.0, 0.0, 0.0, 0.0, 0.0, 0.0, ...   \n",
       "3        [0.0, 0.0, 0.0, 0.0, 0.0, 0.0, 0.0, 0.0, 0.0, ...   \n",
       "4        [0.0, 0.0, 0.0, 0.0, 0.37513907199, 0.0, 0.0, ...   \n",
       "5        [0.0, 0.0, 0.0, 0.0, 0.0, 0.0, 0.0, 0.0, 0.0, ...   \n",
       "\n",
       "                                             genre_encoded  \\\n",
       "movieId                                                      \n",
       "1        [0, 0, 1, 0, 0, 0, 0, 0, 0, 0, 0, 0, 0, 0, 0, ...   \n",
       "2        [0, 0, 1, 0, 0, 0, 0, 0, 1, 0, 0, 0, 0, 0, 0, ...   \n",
       "3        [0, 0, 0, 0, 0, 0, 0, 0, 0, 0, 0, 0, 0, 0, 0, ...   \n",
       "4        [0, 0, 0, 0, 0, 0, 0, 0, 0, 0, 0, 0, 0, 0, 1, ...   \n",
       "5        [0, 0, 0, 0, 0, 0, 0, 0, 1, 0, 0, 0, 0, 0, 0, ...   \n",
       "\n",
       "               year_encoded content_rating_encoded  year_binned  length_binned  \n",
       "movieId                                                                         \n",
       "1        [0, 1, 0, 0, 0, 0]     [0, 1, 0, 0, 0, 0]         1995             80  \n",
       "2        [0, 1, 0, 0, 0, 0]     [0, 0, 0, 1, 0, 0]         1995             80  \n",
       "3        [0, 1, 0, 0, 0, 0]     [1, 0, 0, 0, 0, 0]         1995             80  \n",
       "4        [0, 1, 0, 0, 0, 0]     [0, 0, 0, 0, 0, 1]         1995            120  \n",
       "5        [0, 1, 0, 0, 0, 0]     [0, 0, 0, 1, 0, 0]         1995             80  "
      ]
     },
     "execution_count": 8,
     "metadata": {},
     "output_type": "execute_result"
    }
   ],
   "source": [
    "train_df.head()"
   ]
  },
  {
   "cell_type": "code",
   "execution_count": null,
   "metadata": {},
   "outputs": [],
   "source": []
  },
  {
   "cell_type": "code",
   "execution_count": 9,
   "metadata": {},
   "outputs": [
    {
     "name": "stderr",
     "output_type": "stream",
     "text": [
      "C:\\Users\\kdhim\\Anaconda3\\lib\\site-packages\\gensim\\utils.py:862: UserWarning: detected Windows; aliasing chunkize to chunkize_serial\n",
      "  warnings.warn(\"detected Windows; aliasing chunkize to chunkize_serial\")\n"
     ]
    }
   ],
   "source": [
    "import gensim"
   ]
  },
  {
   "cell_type": "code",
   "execution_count": 10,
   "metadata": {
    "collapsed": true
   },
   "outputs": [],
   "source": [
    "import nltk\n",
    "from nltk.corpus import stopwords"
   ]
  },
  {
   "cell_type": "code",
   "execution_count": 11,
   "metadata": {
    "collapsed": true
   },
   "outputs": [],
   "source": [
    "stopWords = set(stopwords.words('english'))"
   ]
  },
  {
   "cell_type": "code",
   "execution_count": 12,
   "metadata": {
    "collapsed": true
   },
   "outputs": [],
   "source": [
    "train_corpus = []\n",
    "_id=0\n",
    "for i in train_df.index:\n",
    "    train_corpus += [gensim.models.doc2vec.TaggedDocument(\n",
    "            #[x for x in gensim.utils.simple_preprocess(train_df.loc[i][\"description\"]) if x not in stopWords], \n",
    "            gensim.utils.simple_preprocess(train_df.loc[i][\"storyline\"]),\n",
    "            [_id])]\n",
    "    _id+=1"
   ]
  },
  {
   "cell_type": "code",
   "execution_count": null,
   "metadata": {
    "collapsed": true
   },
   "outputs": [],
   "source": []
  },
  {
   "cell_type": "code",
   "execution_count": 13,
   "metadata": {
    "collapsed": true
   },
   "outputs": [],
   "source": [
    "test_corpus = []\n",
    "for i in test_df.index:\n",
    "    test_corpus += [\n",
    "            #[x for x in gensim.utils.simple_preprocess(test_df.loc[i][\"description\"]) if x not in stopWords]\n",
    "            gensim.utils.simple_preprocess(test_df.loc[i][\"storyline\"]),\n",
    "        ]"
   ]
  },
  {
   "cell_type": "code",
   "execution_count": 47,
   "metadata": {
    "collapsed": true
   },
   "outputs": [],
   "source": [
    "model = gensim.models.doc2vec.Doc2Vec(size=60, min_count=2, iter=100)"
   ]
  },
  {
   "cell_type": "code",
   "execution_count": 48,
   "metadata": {
    "collapsed": true
   },
   "outputs": [],
   "source": [
    "model.build_vocab(train_corpus)"
   ]
  },
  {
   "cell_type": "code",
   "execution_count": 49,
   "metadata": {},
   "outputs": [
    {
     "data": {
      "text/plain": [
       "57244381"
      ]
     },
     "execution_count": 49,
     "metadata": {},
     "output_type": "execute_result"
    }
   ],
   "source": [
    "model.train(train_corpus, total_examples=model.corpus_count, epochs=model.iter)"
   ]
  },
  {
   "cell_type": "code",
   "execution_count": 50,
   "metadata": {},
   "outputs": [
    {
     "data": {
      "text/plain": [
       "array([ -5.23686968e-02,   6.34498715e-01,  -1.26160157e+00,\n",
       "        -2.49274850e-01,  -1.01242197e+00,   2.28269726e-01,\n",
       "         9.10340846e-01,   3.53258103e-01,   6.93444192e-01,\n",
       "         4.00148749e-01,  -5.64132094e-01,  -9.64129269e-01,\n",
       "         6.24110699e-01,   3.46076161e-01,  -5.60965359e-01,\n",
       "         5.50029874e-01,   1.39138490e-01,  -1.16864278e-04,\n",
       "         4.30451006e-01,   1.40388870e+00,   2.28080362e-01,\n",
       "         3.62381876e-01,   3.82494181e-01,  -6.99518323e-01,\n",
       "         5.31081595e-02,   7.23387599e-02,  -5.70809424e-01,\n",
       "        -9.03417826e-01,  -4.37621325e-02,  -1.07005703e+00,\n",
       "        -3.58003736e-01,  -2.47752830e-01,  -7.18668461e-01,\n",
       "        -1.10643163e-01,   3.72844309e-01,  -6.78874273e-03,\n",
       "        -1.40240049e+00,  -1.88443437e-01,   4.84852463e-01,\n",
       "        -6.74980223e-01,   9.60317016e-01,   1.97256967e-01,\n",
       "         2.38961861e-01,   3.78458232e-01,   7.59612322e-01,\n",
       "         4.62708503e-01,  -1.78793639e-01,  -4.09098655e-01,\n",
       "         2.02705070e-01,   1.46253660e-01,  -1.21687889e-01,\n",
       "        -2.47518852e-01,   6.97747394e-02,   2.05574632e-01,\n",
       "         3.01440775e-01,   4.10534084e-01,  -4.05810088e-01,\n",
       "         9.58154380e-01,   2.32238382e-01,  -8.97023156e-02], dtype=float32)"
      ]
     },
     "execution_count": 50,
     "metadata": {},
     "output_type": "execute_result"
    }
   ],
   "source": [
    "model.infer_vector(test_corpus[10])"
   ]
  },
  {
   "cell_type": "code",
   "execution_count": 51,
   "metadata": {},
   "outputs": [
    {
     "name": "stdout",
     "output_type": "stream",
     "text": [
      "Test Document (56): «after committing check fraud preston waters begins to live out his year old fantasies by spending million dollars in six days but when it came to being an adult he quickly realized that he didn quite fit the bill miguel ferrer and brian bonsall star in this kid classic that will leave you asking the question why didn this kid get grounded»\n",
      "\n",
      "SIMILAR/DISSIMILAR DOCS PER MODEL Doc2Vec(dm/m,d60,n5,w5,mc2,s0.001,t3):\n",
      "\n",
      "3770\n",
      "MOST (3770, 0.6574116945266724): «after his twin brother is accidentally killed by vengeful bullies year old boy and his friends face the harsh realities of death teenage hormones and family dysfunction»\n",
      "\n",
      "7649\n",
      "MEDIAN (7649, 0.2394581288099289): «chaos consumes small town when chemical facility explodes releasing deadly toxin moments after the leak the town residents show signs of mutation causing the military to quarantine the area leaving any survivors helpless and trapped inside the story follows jim young man isolated within the red zone as he eludes flesh eating zombies in an attempt to win back his freedom»\n",
      "\n",
      "7829\n",
      "LEAST (7829, -0.1724347174167633): «the driver is carrying an east asian child who has been chosen for strange rite he must drive him through dark night in the city to get to monk house while eluding several cars out to get the child»\n",
      "\n"
     ]
    }
   ],
   "source": [
    "doc_id = random.randint(0, len(test_corpus))\n",
    "inferred_vector = model.infer_vector(test_corpus[doc_id])\n",
    "sims = model.docvecs.most_similar([inferred_vector], topn=len(model.docvecs))\n",
    "#print(sims)\n",
    "# Compare and print the most/median/least similar documents from the train corpus\n",
    "print('Test Document ({}): «{}»\\n'.format(doc_id, ' '.join(test_corpus[doc_id])))\n",
    "print(u'SIMILAR/DISSIMILAR DOCS PER MODEL %s:\\n' % model)\n",
    "for label, index in [('MOST', 0), ('MEDIAN', len(sims)//2), ('LEAST', len(sims) - 1)]:\n",
    "    print(sims[index][0])\n",
    "    print(u'%s %s: «%s»\\n' % (label, sims[index], ' '.join(train_corpus[sims[index][0]].words)))"
   ]
  },
  {
   "cell_type": "code",
   "execution_count": 52,
   "metadata": {
    "collapsed": true
   },
   "outputs": [],
   "source": [
    "model.save(\"model/gensim_doc2vec_60\")"
   ]
  },
  {
   "cell_type": "code",
   "execution_count": 53,
   "metadata": {
    "collapsed": true
   },
   "outputs": [],
   "source": [
    "item_all.head()\n",
    "item_all.index = item_all[\"movieId\"]"
   ]
  },
  {
   "cell_type": "code",
   "execution_count": 54,
   "metadata": {
    "collapsed": true
   },
   "outputs": [],
   "source": [
    "item_features[\"Storyline_gensim\"]=item_features[\"movieId_org\"].apply(lambda x: \n",
    "                                   model.infer_vector(\n",
    "                                       item_all.loc[x][\"storyline\"])\n",
    "                                  )"
   ]
  },
  {
   "cell_type": "code",
   "execution_count": 55,
   "metadata": {
    "collapsed": true
   },
   "outputs": [],
   "source": [
    "item_features.to_pickle(\"data/movielens20M.itemfeatures_gensim_60.pkl\")"
   ]
  },
  {
   "cell_type": "code",
   "execution_count": 56,
   "metadata": {},
   "outputs": [
    {
     "data": {
      "text/html": [
       "<div>\n",
       "<style>\n",
       "    .dataframe thead tr:only-child th {\n",
       "        text-align: right;\n",
       "    }\n",
       "\n",
       "    .dataframe thead th {\n",
       "        text-align: left;\n",
       "    }\n",
       "\n",
       "    .dataframe tbody tr th {\n",
       "        vertical-align: top;\n",
       "    }\n",
       "</style>\n",
       "<table border=\"1\" class=\"dataframe\">\n",
       "  <thead>\n",
       "    <tr style=\"text-align: right;\">\n",
       "      <th></th>\n",
       "      <th>movieId_org</th>\n",
       "      <th>Description</th>\n",
       "      <th>Genre</th>\n",
       "      <th>Year</th>\n",
       "      <th>ContentRating</th>\n",
       "      <th>Year_B</th>\n",
       "      <th>Length_B</th>\n",
       "      <th>ItemID</th>\n",
       "      <th>count</th>\n",
       "      <th>Storyline_gensim</th>\n",
       "    </tr>\n",
       "    <tr>\n",
       "      <th>movieId_mapped</th>\n",
       "      <th></th>\n",
       "      <th></th>\n",
       "      <th></th>\n",
       "      <th></th>\n",
       "      <th></th>\n",
       "      <th></th>\n",
       "      <th></th>\n",
       "      <th></th>\n",
       "      <th></th>\n",
       "      <th></th>\n",
       "    </tr>\n",
       "  </thead>\n",
       "  <tbody>\n",
       "    <tr>\n",
       "      <th>2413</th>\n",
       "      <td>131243</td>\n",
       "      <td>[0.0, 0.0, 0.0, 0.0, 0.0, 0.0, 0.0, 0.0, 0.0, ...</td>\n",
       "      <td>[0, 0, 0, 0, 0, 0, 0, 0, 0, 0, 0, 0, 0, 0, 0, ...</td>\n",
       "      <td>[0, 0, 1, 0, 0, 0]</td>\n",
       "      <td>[0, 0, 0, 0, 1, 0]</td>\n",
       "      <td>2000</td>\n",
       "      <td>40</td>\n",
       "      <td>2413</td>\n",
       "      <td>1</td>\n",
       "      <td>[-0.00241154, -0.0071862, -0.0013217, -0.00405...</td>\n",
       "    </tr>\n",
       "    <tr>\n",
       "      <th>166</th>\n",
       "      <td>131248</td>\n",
       "      <td>[0.0, 0.0, 0.0, 0.0, 0.0, 0.0, 0.0, 0.0, 0.0, ...</td>\n",
       "      <td>[0, 0, 1, 0, 0, 0, 0, 0, 0, 0, 0, 0, 0, 0, 0, ...</td>\n",
       "      <td>[0, 0, 0, 1, 0, 0]</td>\n",
       "      <td>[0, 1, 0, 0, 0, 0]</td>\n",
       "      <td>2005</td>\n",
       "      <td>40</td>\n",
       "      <td>166</td>\n",
       "      <td>1</td>\n",
       "      <td>[0.0003332, -0.00830834, -5.60835e-05, -0.0064...</td>\n",
       "    </tr>\n",
       "    <tr>\n",
       "      <th>2443</th>\n",
       "      <td>131252</td>\n",
       "      <td>[0.0, 0.0, 0.0, 0.0, 0.0, 0.0, 0.0, 0.0, 0.0, ...</td>\n",
       "      <td>[0, 0, 0, 0, 0, 0, 0, 0, 0, 0, 0, 0, 1, 0, 0, ...</td>\n",
       "      <td>[0, 0, 1, 0, 0, 0]</td>\n",
       "      <td>[0, 0, 0, 0, 1, 0]</td>\n",
       "      <td>2000</td>\n",
       "      <td>0</td>\n",
       "      <td>2443</td>\n",
       "      <td>1</td>\n",
       "      <td>[-0.000416629, -0.00054859, 0.000142974, 0.003...</td>\n",
       "    </tr>\n",
       "    <tr>\n",
       "      <th>174</th>\n",
       "      <td>131256</td>\n",
       "      <td>[0.0, 0.0, 0.0, 0.0, 0.0, 0.0, 0.0, 0.0, 0.0, ...</td>\n",
       "      <td>[0, 0, 0, 0, 0, 0, 0, 0, 0, 0, 0, 0, 0, 0, 0, ...</td>\n",
       "      <td>[0, 0, 1, 0, 0, 0]</td>\n",
       "      <td>[0, 0, 0, 0, 1, 0]</td>\n",
       "      <td>2000</td>\n",
       "      <td>80</td>\n",
       "      <td>174</td>\n",
       "      <td>1</td>\n",
       "      <td>[-0.00256362, 0.00623451, -0.00782433, -4.6510...</td>\n",
       "    </tr>\n",
       "    <tr>\n",
       "      <th>181</th>\n",
       "      <td>131262</td>\n",
       "      <td>[0.0, 0.0, 0.0, 0.0, 0.0, 0.0, 0.0, 0.0, 0.0, ...</td>\n",
       "      <td>[0, 0, 1, 0, 0, 1, 0, 0, 0, 0, 0, 0, 0, 0, 0, ...</td>\n",
       "      <td>[0, 0, 0, 0, 1, 0]</td>\n",
       "      <td>[1, 0, 0, 0, 0, 0]</td>\n",
       "      <td>2010</td>\n",
       "      <td>80</td>\n",
       "      <td>181</td>\n",
       "      <td>1</td>\n",
       "      <td>[-0.000413641, 0.00287342, -0.00398653, -0.003...</td>\n",
       "    </tr>\n",
       "  </tbody>\n",
       "</table>\n",
       "</div>"
      ],
      "text/plain": [
       "                movieId_org  \\\n",
       "movieId_mapped                \n",
       "2413                 131243   \n",
       "166                  131248   \n",
       "2443                 131252   \n",
       "174                  131256   \n",
       "181                  131262   \n",
       "\n",
       "                                                      Description  \\\n",
       "movieId_mapped                                                      \n",
       "2413            [0.0, 0.0, 0.0, 0.0, 0.0, 0.0, 0.0, 0.0, 0.0, ...   \n",
       "166             [0.0, 0.0, 0.0, 0.0, 0.0, 0.0, 0.0, 0.0, 0.0, ...   \n",
       "2443            [0.0, 0.0, 0.0, 0.0, 0.0, 0.0, 0.0, 0.0, 0.0, ...   \n",
       "174             [0.0, 0.0, 0.0, 0.0, 0.0, 0.0, 0.0, 0.0, 0.0, ...   \n",
       "181             [0.0, 0.0, 0.0, 0.0, 0.0, 0.0, 0.0, 0.0, 0.0, ...   \n",
       "\n",
       "                                                            Genre  \\\n",
       "movieId_mapped                                                      \n",
       "2413            [0, 0, 0, 0, 0, 0, 0, 0, 0, 0, 0, 0, 0, 0, 0, ...   \n",
       "166             [0, 0, 1, 0, 0, 0, 0, 0, 0, 0, 0, 0, 0, 0, 0, ...   \n",
       "2443            [0, 0, 0, 0, 0, 0, 0, 0, 0, 0, 0, 0, 1, 0, 0, ...   \n",
       "174             [0, 0, 0, 0, 0, 0, 0, 0, 0, 0, 0, 0, 0, 0, 0, ...   \n",
       "181             [0, 0, 1, 0, 0, 1, 0, 0, 0, 0, 0, 0, 0, 0, 0, ...   \n",
       "\n",
       "                              Year       ContentRating  Year_B  Length_B  \\\n",
       "movieId_mapped                                                             \n",
       "2413            [0, 0, 1, 0, 0, 0]  [0, 0, 0, 0, 1, 0]    2000        40   \n",
       "166             [0, 0, 0, 1, 0, 0]  [0, 1, 0, 0, 0, 0]    2005        40   \n",
       "2443            [0, 0, 1, 0, 0, 0]  [0, 0, 0, 0, 1, 0]    2000         0   \n",
       "174             [0, 0, 1, 0, 0, 0]  [0, 0, 0, 0, 1, 0]    2000        80   \n",
       "181             [0, 0, 0, 0, 1, 0]  [1, 0, 0, 0, 0, 0]    2010        80   \n",
       "\n",
       "                ItemID  count  \\\n",
       "movieId_mapped                  \n",
       "2413              2413      1   \n",
       "166                166      1   \n",
       "2443              2443      1   \n",
       "174                174      1   \n",
       "181                181      1   \n",
       "\n",
       "                                                 Storyline_gensim  \n",
       "movieId_mapped                                                     \n",
       "2413            [-0.00241154, -0.0071862, -0.0013217, -0.00405...  \n",
       "166             [0.0003332, -0.00830834, -5.60835e-05, -0.0064...  \n",
       "2443            [-0.000416629, -0.00054859, 0.000142974, 0.003...  \n",
       "174             [-0.00256362, 0.00623451, -0.00782433, -4.6510...  \n",
       "181             [-0.000413641, 0.00287342, -0.00398653, -0.003...  "
      ]
     },
     "execution_count": 56,
     "metadata": {},
     "output_type": "execute_result"
    }
   ],
   "source": [
    "item_features.tail()"
   ]
  },
  {
   "cell_type": "code",
   "execution_count": 150,
   "metadata": {},
   "outputs": [
    {
     "data": {
      "text/plain": [
       "8491"
      ]
     },
     "execution_count": 150,
     "metadata": {},
     "output_type": "execute_result"
    }
   ],
   "source": []
  },
  {
   "cell_type": "code",
   "execution_count": null,
   "metadata": {
    "collapsed": true
   },
   "outputs": [],
   "source": []
  }
 ],
 "metadata": {
  "kernelspec": {
   "display_name": "Python 3",
   "language": "python",
   "name": "python3"
  },
  "language_info": {
   "codemirror_mode": {
    "name": "ipython",
    "version": 3
   },
   "file_extension": ".py",
   "mimetype": "text/x-python",
   "name": "python",
   "nbconvert_exporter": "python",
   "pygments_lexer": "ipython3",
   "version": "3.6.2"
  }
 },
 "nbformat": 4,
 "nbformat_minor": 2
}
