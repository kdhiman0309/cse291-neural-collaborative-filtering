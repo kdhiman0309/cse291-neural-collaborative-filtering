{
 "cells": [
  {
   "cell_type": "code",
   "execution_count": 284,
   "metadata": {
    "collapsed": true
   },
   "outputs": [],
   "source": [
    "import pandas as pd\n",
    "import re\n",
    "import numpy as np"
   ]
  },
  {
   "cell_type": "code",
   "execution_count": 94,
   "metadata": {
    "collapsed": true
   },
   "outputs": [],
   "source": [
    "df = pd.read_pickle(\"movies_data_new.pkl\")"
   ]
  },
  {
   "cell_type": "code",
   "execution_count": 95,
   "metadata": {},
   "outputs": [
    {
     "data": {
      "text/plain": [
       "(10115, 27)"
      ]
     },
     "execution_count": 95,
     "metadata": {},
     "output_type": "execute_result"
    }
   ],
   "source": [
    "df.shape"
   ]
  },
  {
   "cell_type": "code",
   "execution_count": 96,
   "metadata": {},
   "outputs": [
    {
     "data": {
      "text/plain": [
       "R            3539\n",
       "PG-13        1917\n",
       "             1881\n",
       "NOT RATED    1087\n",
       "PG            867\n",
       "UNRATED       273\n",
       "G             259\n",
       "TV-14          89\n",
       "TV-MA          85\n",
       "TV-PG          62\n",
       "TV-G           28\n",
       "NC-17          19\n",
       "TV-Y7           4\n",
       "TV-Y            3\n",
       "APPROVED        1\n",
       "E               1\n",
       "Name: content_rating, dtype: int64"
      ]
     },
     "execution_count": 96,
     "metadata": {},
     "output_type": "execute_result"
    }
   ],
   "source": [
    "df[\"content_rating\"].value_counts()"
   ]
  },
  {
   "cell_type": "code",
   "execution_count": 97,
   "metadata": {},
   "outputs": [
    {
     "data": {
      "text/plain": [
       "R            3539\n",
       "PG-13        1917\n",
       "             1881\n",
       "NOT RATED    1087\n",
       "PG            867\n",
       "UNRATED       273\n",
       "G             259\n",
       "NC-17          19\n",
       "Name: content_rating, dtype: int64"
      ]
     },
     "execution_count": 97,
     "metadata": {},
     "output_type": "execute_result"
    }
   ],
   "source": [
    "discard = set([\"E\",\"APPROVED\",\"TV\"])\n",
    "df = df[df[\"content_rating\"].apply(lambda x: False if \"TV\" in x else (x not in discard))]\n",
    "df[\"content_rating\"].value_counts()"
   ]
  },
  {
   "cell_type": "code",
   "execution_count": 98,
   "metadata": {},
   "outputs": [
    {
     "data": {
      "text/plain": [
       "R         3539\n",
       "UNKOWN    3241\n",
       "PG-13     1917\n",
       "PG         867\n",
       "G          259\n",
       "NC-17       19\n",
       "Name: content_rating, dtype: int64"
      ]
     },
     "execution_count": 98,
     "metadata": {},
     "output_type": "execute_result"
    }
   ],
   "source": [
    "df[\"content_rating\"] = df[\"content_rating\"].apply(lambda x: \"UNKOWN\" if x in set([\"NOT RATED\", \"UNRATED\",\"\"]) else x)\n",
    "df[\"content_rating\"].value_counts()"
   ]
  },
  {
   "cell_type": "code",
   "execution_count": 104,
   "metadata": {},
   "outputs": [
    {
     "data": {
      "text/plain": [
       "18"
      ]
     },
     "execution_count": 104,
     "metadata": {},
     "output_type": "execute_result"
    }
   ],
   "source": [
    "((df[\"release_date\"]!=\"\") & (df[\"year\"]==\"\")).sum()\n",
    "#df[\"year2\"] = df[\"year\"].apply(lambda x: (int(x)/5)*5 if x else 0)"
   ]
  },
  {
   "cell_type": "code",
   "execution_count": 110,
   "metadata": {
    "collapsed": true
   },
   "outputs": [],
   "source": [
    "for index,row in df.iterrows():\n",
    "    year = row[\"year\"]\n",
    "    date = row[\"release_date\"]\n",
    "    if year or date:\n",
    "        if year:\n",
    "            df.loc[index, \"year2\"] = int(year)\n",
    "        else:\n",
    "            df.loc[index, \"year2\"] = int(date.split(\"-\")[0])\n",
    "    else: \n",
    "        df.loc[index, \"year2\"] = 0\n"
   ]
  },
  {
   "cell_type": "code",
   "execution_count": 123,
   "metadata": {
    "collapsed": true
   },
   "outputs": [],
   "source": [
    "# movies released >= 1990\n",
    "df = df[df[\"year2\"]>=1990]"
   ]
  },
  {
   "cell_type": "code",
   "execution_count": 124,
   "metadata": {
    "collapsed": true
   },
   "outputs": [],
   "source": [
    "df[\"year_binned\"] = df[\"year2\"].apply(lambda x: int(x/5)*5)"
   ]
  },
  {
   "cell_type": "code",
   "execution_count": 129,
   "metadata": {},
   "outputs": [
    {
     "data": {
      "text/plain": [
       "Index(['movieId', 'imdbId', 'tmdbId', 'data', 'title', 'content_rating',\n",
       "       'original_title', 'metadata', 'release_date', 'director', 'url', 'year',\n",
       "       'trailer', 'length', 'cast', 'imdb_id', 'rating', 'genre',\n",
       "       'rating_count', 'storyline', 'description', 'writers', 'stars',\n",
       "       'poster', 'budget', 'gross', 'languages', 'year2', 'year_binned'],\n",
       "      dtype='object')"
      ]
     },
     "execution_count": 129,
     "metadata": {},
     "output_type": "execute_result"
    }
   ],
   "source": [
    "df.columns"
   ]
  },
  {
   "cell_type": "code",
   "execution_count": 137,
   "metadata": {
    "collapsed": true
   },
   "outputs": [],
   "source": [
    "# filter by valid storyline\n",
    "df = df[df[\"storyline\"]!=\"\"]\n",
    "# filter by valid description\n",
    "df = df[df[\"description\"]!=\"\"]"
   ]
  },
  {
   "cell_type": "code",
   "execution_count": 138,
   "metadata": {},
   "outputs": [
    {
     "data": {
      "text/plain": [
       "(9131, 29)"
      ]
     },
     "execution_count": 138,
     "metadata": {},
     "output_type": "execute_result"
    }
   ],
   "source": [
    "df.shape"
   ]
  },
  {
   "cell_type": "code",
   "execution_count": 146,
   "metadata": {},
   "outputs": [
    {
     "data": {
      "text/plain": [
       "0    [None, None, None]\n",
       "1    [None, None, None]\n",
       "2          [None, None]\n",
       "3    [None, None, None]\n",
       "4    [None, None, None]\n",
       "Name: genre, dtype: object"
      ]
     },
     "execution_count": 146,
     "metadata": {},
     "output_type": "execute_result"
    }
   ],
   "source": [
    "all_genres = set()\n",
    "df[\"genre\"].apply(lambda x: [all_genres.add(j) for j in x]).head()"
   ]
  },
  {
   "cell_type": "code",
   "execution_count": 221,
   "metadata": {},
   "outputs": [
    {
     "data": {
      "text/plain": [
       "0          [None]\n",
       "1    [None, None]\n",
       "2          [None]\n",
       "3          [None]\n",
       "4          [None]\n",
       "Name: languages, dtype: object"
      ]
     },
     "execution_count": 221,
     "metadata": {},
     "output_type": "execute_result"
    }
   ],
   "source": [
    "all_lang = set()\n",
    "df[\"languages\"].apply(lambda x: [all_lang.add(j) for j in x]).head()"
   ]
  },
  {
   "cell_type": "code",
   "execution_count": 224,
   "metadata": {},
   "outputs": [
    {
     "data": {
      "text/plain": [
       "174"
      ]
     },
     "execution_count": 224,
     "metadata": {},
     "output_type": "execute_result"
    }
   ],
   "source": [
    "len(all_lang)"
   ]
  },
  {
   "cell_type": "code",
   "execution_count": 222,
   "metadata": {
    "collapsed": true
   },
   "outputs": [],
   "source": [
    "df[\"all_languages\"] = df[\"languages\"].apply(lambda x: list(all_lang))"
   ]
  },
  {
   "cell_type": "code",
   "execution_count": 151,
   "metadata": {},
   "outputs": [
    {
     "data": {
      "text/plain": [
       "Index(['movieId', 'imdbId', 'tmdbId', 'data', 'title', 'content_rating',\n",
       "       'original_title', 'metadata', 'release_date', 'director', 'url', 'year',\n",
       "       'trailer', 'length', 'cast', 'imdb_id', 'rating', 'genre',\n",
       "       'rating_count', 'storyline', 'description', 'writers', 'stars',\n",
       "       'poster', 'budget', 'gross', 'languages', 'year2', 'year_binned',\n",
       "       'all_genres'],\n",
       "      dtype='object')"
      ]
     },
     "execution_count": 151,
     "metadata": {},
     "output_type": "execute_result"
    }
   ],
   "source": [
    "df.columns"
   ]
  },
  {
   "cell_type": "code",
   "execution_count": 159,
   "metadata": {
    "collapsed": true
   },
   "outputs": [],
   "source": [
    "df[\"rating\"] = df[\"rating\"].apply(float)"
   ]
  },
  {
   "cell_type": "code",
   "execution_count": 166,
   "metadata": {
    "collapsed": true
   },
   "outputs": [],
   "source": [
    "df[\"rating_count\"] = df[\"rating_count\"].apply(lambda x: x.replace(\",\",\"\")).apply(int)"
   ]
  },
  {
   "cell_type": "code",
   "execution_count": 169,
   "metadata": {
    "collapsed": true
   },
   "outputs": [],
   "source": [
    "df[\"length\"] = df[\"length\"].apply(lambda x: int(x) if x else 0)"
   ]
  },
  {
   "cell_type": "code",
   "execution_count": 209,
   "metadata": {},
   "outputs": [
    {
     "data": {
      "text/plain": [
       "'90,000'"
      ]
     },
     "execution_count": 209,
     "metadata": {},
     "output_type": "execute_result"
    }
   ],
   "source": [
    "x = '&#8364;90,000              (estimated)'\n",
    "re.findall(\"([\\d,]+)\",x)[-1]"
   ]
  },
  {
   "cell_type": "code",
   "execution_count": 207,
   "metadata": {},
   "outputs": [
    {
     "data": {
      "text/plain": [
       "'&#8364;90,000              (estimated)'"
      ]
     },
     "execution_count": 207,
     "metadata": {},
     "output_type": "execute_result"
    }
   ],
   "source": [
    "df[\"budget\"].loc[27272]"
   ]
  },
  {
   "cell_type": "code",
   "execution_count": 214,
   "metadata": {
    "collapsed": true
   },
   "outputs": [],
   "source": [
    "df[\"budget\"] = df[\"budget\"].apply(lambda x: re.findall(\"([\\d,]+)\",x)[-1] if re.findall(\"([\\d,]+)\",x) else x).apply(lambda x: x.replace(\",\",\"\")).apply(lambda x: int(x) if x else 0)"
   ]
  },
  {
   "cell_type": "code",
   "execution_count": 217,
   "metadata": {
    "collapsed": true
   },
   "outputs": [],
   "source": [
    "df[\"gross\"] = df[\"gross\"].apply(lambda x: re.findall(\"([\\d,]+)\",x)[0] if re.findall(\"([\\d,]+)\",x) else x).apply(lambda x: x.replace(\",\",\"\")).apply(lambda x: int(x) if x else 0)"
   ]
  },
  {
   "cell_type": "code",
   "execution_count": 223,
   "metadata": {},
   "outputs": [
    {
     "data": {
      "text/html": [
       "<div>\n",
       "<style>\n",
       "    .dataframe thead tr:only-child th {\n",
       "        text-align: right;\n",
       "    }\n",
       "\n",
       "    .dataframe thead th {\n",
       "        text-align: left;\n",
       "    }\n",
       "\n",
       "    .dataframe tbody tr th {\n",
       "        vertical-align: top;\n",
       "    }\n",
       "</style>\n",
       "<table border=\"1\" class=\"dataframe\">\n",
       "  <thead>\n",
       "    <tr style=\"text-align: right;\">\n",
       "      <th></th>\n",
       "      <th>0</th>\n",
       "      <th>1</th>\n",
       "      <th>2</th>\n",
       "      <th>3</th>\n",
       "      <th>4</th>\n",
       "    </tr>\n",
       "  </thead>\n",
       "  <tbody>\n",
       "    <tr>\n",
       "      <th>movieId</th>\n",
       "      <td>1</td>\n",
       "      <td>2</td>\n",
       "      <td>3</td>\n",
       "      <td>4</td>\n",
       "      <td>5</td>\n",
       "    </tr>\n",
       "    <tr>\n",
       "      <th>imdbId</th>\n",
       "      <td>114709</td>\n",
       "      <td>113497</td>\n",
       "      <td>113228</td>\n",
       "      <td>114885</td>\n",
       "      <td>113041</td>\n",
       "    </tr>\n",
       "    <tr>\n",
       "      <th>tmdbId</th>\n",
       "      <td>862</td>\n",
       "      <td>8844</td>\n",
       "      <td>15602</td>\n",
       "      <td>31357</td>\n",
       "      <td>11862</td>\n",
       "    </tr>\n",
       "    <tr>\n",
       "      <th>data</th>\n",
       "      <td>{'title': 'Toy Story', 'content_rating': 'G', ...</td>\n",
       "      <td>{'title': 'Jumanji', 'content_rating': 'PG', '...</td>\n",
       "      <td>{'title': 'Grumpier Old Men', 'content_rating'...</td>\n",
       "      <td>{'title': 'Waiting to Exhale', 'content_rating...</td>\n",
       "      <td>{'title': 'Father of the Bride Part II', 'cont...</td>\n",
       "    </tr>\n",
       "    <tr>\n",
       "      <th>title</th>\n",
       "      <td>Toy Story</td>\n",
       "      <td>Jumanji</td>\n",
       "      <td>Grumpier Old Men</td>\n",
       "      <td>Waiting to Exhale</td>\n",
       "      <td>Father of the Bride Part II</td>\n",
       "    </tr>\n",
       "    <tr>\n",
       "      <th>content_rating</th>\n",
       "      <td>G</td>\n",
       "      <td>PG</td>\n",
       "      <td>PG-13</td>\n",
       "      <td>R</td>\n",
       "      <td>PG</td>\n",
       "    </tr>\n",
       "    <tr>\n",
       "      <th>original_title</th>\n",
       "      <td></td>\n",
       "      <td></td>\n",
       "      <td></td>\n",
       "      <td></td>\n",
       "      <td></td>\n",
       "    </tr>\n",
       "    <tr>\n",
       "      <th>metadata</th>\n",
       "      <td>{'languages': ['English'], 'asp_retio': '1.85 ...</td>\n",
       "      <td>{'languages': ['English', 'French'], 'asp_reti...</td>\n",
       "      <td>{'languages': ['English'], 'asp_retio': '1.85 ...</td>\n",
       "      <td>{'languages': ['English'], 'asp_retio': '1.85 ...</td>\n",
       "      <td>{'languages': ['English'], 'asp_retio': '1.85 ...</td>\n",
       "    </tr>\n",
       "    <tr>\n",
       "      <th>release_date</th>\n",
       "      <td>1995-11-22</td>\n",
       "      <td>1995-12-15</td>\n",
       "      <td>1995-12-22</td>\n",
       "      <td>1995-12-22</td>\n",
       "      <td>1995-12-08</td>\n",
       "    </tr>\n",
       "    <tr>\n",
       "      <th>director</th>\n",
       "      <td>John Lasseter</td>\n",
       "      <td>Joe Johnston</td>\n",
       "      <td>Howard Deutch</td>\n",
       "      <td>Forest Whitaker</td>\n",
       "      <td>Charles Shyer</td>\n",
       "    </tr>\n",
       "    <tr>\n",
       "      <th>url</th>\n",
       "      <td>{'url': 'http://www.imdb.com/title/tt114709'}</td>\n",
       "      <td>{'url': 'http://www.imdb.com/title/tt113497'}</td>\n",
       "      <td>{'url': 'http://www.imdb.com/title/tt113228'}</td>\n",
       "      <td>{'url': 'http://www.imdb.com/title/tt114885'}</td>\n",
       "      <td>{'url': 'http://www.imdb.com/title/tt113041'}</td>\n",
       "    </tr>\n",
       "    <tr>\n",
       "      <th>year</th>\n",
       "      <td>1995</td>\n",
       "      <td>1995</td>\n",
       "      <td>1995</td>\n",
       "      <td>1995</td>\n",
       "      <td>1995</td>\n",
       "    </tr>\n",
       "    <tr>\n",
       "      <th>trailer</th>\n",
       "      <td>[{'mimeType': 'video/mp4', 'definition': 'SD',...</td>\n",
       "      <td>[]</td>\n",
       "      <td>[]</td>\n",
       "      <td>[]</td>\n",
       "      <td>[]</td>\n",
       "    </tr>\n",
       "    <tr>\n",
       "      <th>length</th>\n",
       "      <td>81</td>\n",
       "      <td>104</td>\n",
       "      <td>101</td>\n",
       "      <td>124</td>\n",
       "      <td>106</td>\n",
       "    </tr>\n",
       "    <tr>\n",
       "      <th>cast</th>\n",
       "      <td>[{'character': 'Woody       (voice)', 'image':...</td>\n",
       "      <td>[{'character': 'Alan Parrish', 'image': 'https...</td>\n",
       "      <td>[{'character': 'Max Goldman', 'image': 'https:...</td>\n",
       "      <td>[{'character': 'Savannah Jackson', 'image': 'h...</td>\n",
       "      <td>[{'character': 'George Banks', 'image': 'https...</td>\n",
       "    </tr>\n",
       "    <tr>\n",
       "      <th>imdb_id</th>\n",
       "      <td>tt0114709</td>\n",
       "      <td>tt0113497</td>\n",
       "      <td>tt0113228</td>\n",
       "      <td>tt0114885</td>\n",
       "      <td>tt0113041</td>\n",
       "    </tr>\n",
       "    <tr>\n",
       "      <th>rating</th>\n",
       "      <td>8.3</td>\n",
       "      <td>6.9</td>\n",
       "      <td>6.6</td>\n",
       "      <td>5.7</td>\n",
       "      <td>5.9</td>\n",
       "    </tr>\n",
       "    <tr>\n",
       "      <th>genre</th>\n",
       "      <td>[Animation, Adventure, Comedy]</td>\n",
       "      <td>[Action, Adventure, Family]</td>\n",
       "      <td>[Comedy, Romance]</td>\n",
       "      <td>[Comedy, Drama, Romance]</td>\n",
       "      <td>[Comedy, Family, Romance]</td>\n",
       "    </tr>\n",
       "    <tr>\n",
       "      <th>rating_count</th>\n",
       "      <td>701041</td>\n",
       "      <td>234752</td>\n",
       "      <td>20854</td>\n",
       "      <td>8025</td>\n",
       "      <td>28834</td>\n",
       "    </tr>\n",
       "    <tr>\n",
       "      <th>storyline</th>\n",
       "      <td>A little boy named Andy loves to be in his roo...</td>\n",
       "      <td>After being trapped in a jungle board game for...</td>\n",
       "      <td>Things don't seem to change much in Wabasha Co...</td>\n",
       "      <td>This story based on the best selling novel by ...</td>\n",
       "      <td>In this sequel to \"Father of the Bride\", Georg...</td>\n",
       "    </tr>\n",
       "    <tr>\n",
       "      <th>description</th>\n",
       "      <td>A cowboy doll is profoundly threatened and jea...</td>\n",
       "      <td>When two kids find and play a magical board ga...</td>\n",
       "      <td>John and Max resolve to save their beloved bai...</td>\n",
       "      <td>Based on Terry McMillan's novel, this film fol...</td>\n",
       "      <td>George Banks must deal not only with the pregn...</td>\n",
       "    </tr>\n",
       "    <tr>\n",
       "      <th>writers</th>\n",
       "      <td>[John Lasseter, Pete Docter]</td>\n",
       "      <td>[Jonathan Hensleigh, Greg Taylor]</td>\n",
       "      <td>[Mark Steven Johnson, Mark Steven Johnson]</td>\n",
       "      <td>[Terry McMillan, Terry McMillan]</td>\n",
       "      <td>[Albert Hackett, Frances Goodrich]</td>\n",
       "    </tr>\n",
       "    <tr>\n",
       "      <th>stars</th>\n",
       "      <td>[Tom Hanks, Tim Allen, Don Rickles]</td>\n",
       "      <td>[Robin Williams, Kirsten Dunst, Bonnie Hunt]</td>\n",
       "      <td>[Walter Matthau, Jack Lemmon, Ann-Margret]</td>\n",
       "      <td>[Whitney Houston, Angela Bassett, Loretta Devine]</td>\n",
       "      <td>[Steve Martin, Diane Keaton, Martin Short]</td>\n",
       "    </tr>\n",
       "    <tr>\n",
       "      <th>poster</th>\n",
       "      <td>{'large': 'https://images-na.ssl-images-amazon...</td>\n",
       "      <td>{'large': 'https://images-na.ssl-images-amazon...</td>\n",
       "      <td>{'large': 'https://images-na.ssl-images-amazon...</td>\n",
       "      <td>{'large': 'https://images-na.ssl-images-amazon...</td>\n",
       "      <td>{'large': 'https://images-na.ssl-images-amazon...</td>\n",
       "    </tr>\n",
       "    <tr>\n",
       "      <th>budget</th>\n",
       "      <td>30000000</td>\n",
       "      <td>50000000</td>\n",
       "      <td>25000000</td>\n",
       "      <td>16000000</td>\n",
       "      <td>30000000</td>\n",
       "    </tr>\n",
       "    <tr>\n",
       "      <th>gross</th>\n",
       "      <td>191796233</td>\n",
       "      <td>100475249</td>\n",
       "      <td>69870000</td>\n",
       "      <td>67052156</td>\n",
       "      <td>76594000</td>\n",
       "    </tr>\n",
       "    <tr>\n",
       "      <th>languages</th>\n",
       "      <td>[English]</td>\n",
       "      <td>[English, French]</td>\n",
       "      <td>[English]</td>\n",
       "      <td>[English]</td>\n",
       "      <td>[English]</td>\n",
       "    </tr>\n",
       "    <tr>\n",
       "      <th>year2</th>\n",
       "      <td>1995</td>\n",
       "      <td>1995</td>\n",
       "      <td>1995</td>\n",
       "      <td>1995</td>\n",
       "      <td>1995</td>\n",
       "    </tr>\n",
       "    <tr>\n",
       "      <th>year_binned</th>\n",
       "      <td>1995</td>\n",
       "      <td>1995</td>\n",
       "      <td>1995</td>\n",
       "      <td>1995</td>\n",
       "      <td>1995</td>\n",
       "    </tr>\n",
       "    <tr>\n",
       "      <th>all_genres</th>\n",
       "      <td>[Documentary, Adventure, News, Thriller, Music...</td>\n",
       "      <td>[Documentary, Adventure, News, Thriller, Music...</td>\n",
       "      <td>[Documentary, Adventure, News, Thriller, Music...</td>\n",
       "      <td>[Documentary, Adventure, News, Thriller, Music...</td>\n",
       "      <td>[Documentary, Adventure, News, Thriller, Music...</td>\n",
       "    </tr>\n",
       "    <tr>\n",
       "      <th>all_languages</th>\n",
       "      <td>[Malay, Burmese, Ukrainian, Russian, Persian, ...</td>\n",
       "      <td>[Malay, Burmese, Ukrainian, Russian, Persian, ...</td>\n",
       "      <td>[Malay, Burmese, Ukrainian, Russian, Persian, ...</td>\n",
       "      <td>[Malay, Burmese, Ukrainian, Russian, Persian, ...</td>\n",
       "      <td>[Malay, Burmese, Ukrainian, Russian, Persian, ...</td>\n",
       "    </tr>\n",
       "  </tbody>\n",
       "</table>\n",
       "</div>"
      ],
      "text/plain": [
       "                                                                0  \\\n",
       "movieId                                                         1   \n",
       "imdbId                                                     114709   \n",
       "tmdbId                                                        862   \n",
       "data            {'title': 'Toy Story', 'content_rating': 'G', ...   \n",
       "title                                                   Toy Story   \n",
       "content_rating                                                  G   \n",
       "original_title                                                      \n",
       "metadata        {'languages': ['English'], 'asp_retio': '1.85 ...   \n",
       "release_date                                           1995-11-22   \n",
       "director                                            John Lasseter   \n",
       "url                 {'url': 'http://www.imdb.com/title/tt114709'}   \n",
       "year                                                         1995   \n",
       "trailer         [{'mimeType': 'video/mp4', 'definition': 'SD',...   \n",
       "length                                                         81   \n",
       "cast            [{'character': 'Woody       (voice)', 'image':...   \n",
       "imdb_id                                                 tt0114709   \n",
       "rating                                                        8.3   \n",
       "genre                              [Animation, Adventure, Comedy]   \n",
       "rating_count                                               701041   \n",
       "storyline       A little boy named Andy loves to be in his roo...   \n",
       "description     A cowboy doll is profoundly threatened and jea...   \n",
       "writers                              [John Lasseter, Pete Docter]   \n",
       "stars                         [Tom Hanks, Tim Allen, Don Rickles]   \n",
       "poster          {'large': 'https://images-na.ssl-images-amazon...   \n",
       "budget                                                   30000000   \n",
       "gross                                                   191796233   \n",
       "languages                                               [English]   \n",
       "year2                                                        1995   \n",
       "year_binned                                                  1995   \n",
       "all_genres      [Documentary, Adventure, News, Thriller, Music...   \n",
       "all_languages   [Malay, Burmese, Ukrainian, Russian, Persian, ...   \n",
       "\n",
       "                                                                1  \\\n",
       "movieId                                                         2   \n",
       "imdbId                                                     113497   \n",
       "tmdbId                                                       8844   \n",
       "data            {'title': 'Jumanji', 'content_rating': 'PG', '...   \n",
       "title                                                     Jumanji   \n",
       "content_rating                                                 PG   \n",
       "original_title                                                      \n",
       "metadata        {'languages': ['English', 'French'], 'asp_reti...   \n",
       "release_date                                           1995-12-15   \n",
       "director                                             Joe Johnston   \n",
       "url                 {'url': 'http://www.imdb.com/title/tt113497'}   \n",
       "year                                                         1995   \n",
       "trailer                                                        []   \n",
       "length                                                        104   \n",
       "cast            [{'character': 'Alan Parrish', 'image': 'https...   \n",
       "imdb_id                                                 tt0113497   \n",
       "rating                                                        6.9   \n",
       "genre                                 [Action, Adventure, Family]   \n",
       "rating_count                                               234752   \n",
       "storyline       After being trapped in a jungle board game for...   \n",
       "description     When two kids find and play a magical board ga...   \n",
       "writers                         [Jonathan Hensleigh, Greg Taylor]   \n",
       "stars                [Robin Williams, Kirsten Dunst, Bonnie Hunt]   \n",
       "poster          {'large': 'https://images-na.ssl-images-amazon...   \n",
       "budget                                                   50000000   \n",
       "gross                                                   100475249   \n",
       "languages                                       [English, French]   \n",
       "year2                                                        1995   \n",
       "year_binned                                                  1995   \n",
       "all_genres      [Documentary, Adventure, News, Thriller, Music...   \n",
       "all_languages   [Malay, Burmese, Ukrainian, Russian, Persian, ...   \n",
       "\n",
       "                                                                2  \\\n",
       "movieId                                                         3   \n",
       "imdbId                                                     113228   \n",
       "tmdbId                                                      15602   \n",
       "data            {'title': 'Grumpier Old Men', 'content_rating'...   \n",
       "title                                            Grumpier Old Men   \n",
       "content_rating                                              PG-13   \n",
       "original_title                                                      \n",
       "metadata        {'languages': ['English'], 'asp_retio': '1.85 ...   \n",
       "release_date                                           1995-12-22   \n",
       "director                                            Howard Deutch   \n",
       "url                 {'url': 'http://www.imdb.com/title/tt113228'}   \n",
       "year                                                         1995   \n",
       "trailer                                                        []   \n",
       "length                                                        101   \n",
       "cast            [{'character': 'Max Goldman', 'image': 'https:...   \n",
       "imdb_id                                                 tt0113228   \n",
       "rating                                                        6.6   \n",
       "genre                                           [Comedy, Romance]   \n",
       "rating_count                                                20854   \n",
       "storyline       Things don't seem to change much in Wabasha Co...   \n",
       "description     John and Max resolve to save their beloved bai...   \n",
       "writers                [Mark Steven Johnson, Mark Steven Johnson]   \n",
       "stars                  [Walter Matthau, Jack Lemmon, Ann-Margret]   \n",
       "poster          {'large': 'https://images-na.ssl-images-amazon...   \n",
       "budget                                                   25000000   \n",
       "gross                                                    69870000   \n",
       "languages                                               [English]   \n",
       "year2                                                        1995   \n",
       "year_binned                                                  1995   \n",
       "all_genres      [Documentary, Adventure, News, Thriller, Music...   \n",
       "all_languages   [Malay, Burmese, Ukrainian, Russian, Persian, ...   \n",
       "\n",
       "                                                                3  \\\n",
       "movieId                                                         4   \n",
       "imdbId                                                     114885   \n",
       "tmdbId                                                      31357   \n",
       "data            {'title': 'Waiting to Exhale', 'content_rating...   \n",
       "title                                           Waiting to Exhale   \n",
       "content_rating                                                  R   \n",
       "original_title                                                      \n",
       "metadata        {'languages': ['English'], 'asp_retio': '1.85 ...   \n",
       "release_date                                           1995-12-22   \n",
       "director                                          Forest Whitaker   \n",
       "url                 {'url': 'http://www.imdb.com/title/tt114885'}   \n",
       "year                                                         1995   \n",
       "trailer                                                        []   \n",
       "length                                                        124   \n",
       "cast            [{'character': 'Savannah Jackson', 'image': 'h...   \n",
       "imdb_id                                                 tt0114885   \n",
       "rating                                                        5.7   \n",
       "genre                                    [Comedy, Drama, Romance]   \n",
       "rating_count                                                 8025   \n",
       "storyline       This story based on the best selling novel by ...   \n",
       "description     Based on Terry McMillan's novel, this film fol...   \n",
       "writers                          [Terry McMillan, Terry McMillan]   \n",
       "stars           [Whitney Houston, Angela Bassett, Loretta Devine]   \n",
       "poster          {'large': 'https://images-na.ssl-images-amazon...   \n",
       "budget                                                   16000000   \n",
       "gross                                                    67052156   \n",
       "languages                                               [English]   \n",
       "year2                                                        1995   \n",
       "year_binned                                                  1995   \n",
       "all_genres      [Documentary, Adventure, News, Thriller, Music...   \n",
       "all_languages   [Malay, Burmese, Ukrainian, Russian, Persian, ...   \n",
       "\n",
       "                                                                4  \n",
       "movieId                                                         5  \n",
       "imdbId                                                     113041  \n",
       "tmdbId                                                      11862  \n",
       "data            {'title': 'Father of the Bride Part II', 'cont...  \n",
       "title                                 Father of the Bride Part II  \n",
       "content_rating                                                 PG  \n",
       "original_title                                                     \n",
       "metadata        {'languages': ['English'], 'asp_retio': '1.85 ...  \n",
       "release_date                                           1995-12-08  \n",
       "director                                            Charles Shyer  \n",
       "url                 {'url': 'http://www.imdb.com/title/tt113041'}  \n",
       "year                                                         1995  \n",
       "trailer                                                        []  \n",
       "length                                                        106  \n",
       "cast            [{'character': 'George Banks', 'image': 'https...  \n",
       "imdb_id                                                 tt0113041  \n",
       "rating                                                        5.9  \n",
       "genre                                   [Comedy, Family, Romance]  \n",
       "rating_count                                                28834  \n",
       "storyline       In this sequel to \"Father of the Bride\", Georg...  \n",
       "description     George Banks must deal not only with the pregn...  \n",
       "writers                        [Albert Hackett, Frances Goodrich]  \n",
       "stars                  [Steve Martin, Diane Keaton, Martin Short]  \n",
       "poster          {'large': 'https://images-na.ssl-images-amazon...  \n",
       "budget                                                   30000000  \n",
       "gross                                                    76594000  \n",
       "languages                                               [English]  \n",
       "year2                                                        1995  \n",
       "year_binned                                                  1995  \n",
       "all_genres      [Documentary, Adventure, News, Thriller, Music...  \n",
       "all_languages   [Malay, Burmese, Ukrainian, Russian, Persian, ...  "
      ]
     },
     "execution_count": 223,
     "metadata": {},
     "output_type": "execute_result"
    }
   ],
   "source": [
    "df.head().T"
   ]
  },
  {
   "cell_type": "code",
   "execution_count": 252,
   "metadata": {
    "collapsed": true
   },
   "outputs": [],
   "source": [
    "df = df[(df[\"genre\"].apply(len))>0]"
   ]
  },
  {
   "cell_type": "code",
   "execution_count": 253,
   "metadata": {
    "collapsed": true
   },
   "outputs": [],
   "source": [
    "df_preprocessed = df[[\"movieId\",\"imdbId\",\"title\",\"storyline\",\"description\",\"genre\",\"year2\",\"year_binned\",\"rating\",\"rating_count\",\"length\",\"budget\",\"gross\",\"languages\"]]"
   ]
  },
  {
   "cell_type": "code",
   "execution_count": 254,
   "metadata": {
    "collapsed": true
   },
   "outputs": [],
   "source": [
    "df_preprocessed.to_csv(\"movies_data_preprocessed.csv\",index=None)\n",
    "df_preprocessed.to_pickle(\"movies_data_preprocessed.pkl\")"
   ]
  },
  {
   "cell_type": "code",
   "execution_count": 255,
   "metadata": {},
   "outputs": [
    {
     "data": {
      "text/html": [
       "<div>\n",
       "<style>\n",
       "    .dataframe thead tr:only-child th {\n",
       "        text-align: right;\n",
       "    }\n",
       "\n",
       "    .dataframe thead th {\n",
       "        text-align: left;\n",
       "    }\n",
       "\n",
       "    .dataframe tbody tr th {\n",
       "        vertical-align: top;\n",
       "    }\n",
       "</style>\n",
       "<table border=\"1\" class=\"dataframe\">\n",
       "  <thead>\n",
       "    <tr style=\"text-align: right;\">\n",
       "      <th></th>\n",
       "      <th>movieId</th>\n",
       "      <th>imdbId</th>\n",
       "      <th>title</th>\n",
       "      <th>storyline</th>\n",
       "      <th>description</th>\n",
       "      <th>genre</th>\n",
       "      <th>year2</th>\n",
       "      <th>year_binned</th>\n",
       "      <th>rating</th>\n",
       "      <th>rating_count</th>\n",
       "      <th>length</th>\n",
       "      <th>budget</th>\n",
       "      <th>gross</th>\n",
       "      <th>languages</th>\n",
       "    </tr>\n",
       "  </thead>\n",
       "  <tbody>\n",
       "    <tr>\n",
       "      <th>0</th>\n",
       "      <td>1</td>\n",
       "      <td>114709</td>\n",
       "      <td>Toy Story</td>\n",
       "      <td>A little boy named Andy loves to be in his roo...</td>\n",
       "      <td>A cowboy doll is profoundly threatened and jea...</td>\n",
       "      <td>[Animation, Adventure, Comedy]</td>\n",
       "      <td>1995</td>\n",
       "      <td>1995</td>\n",
       "      <td>8.3</td>\n",
       "      <td>701041</td>\n",
       "      <td>81</td>\n",
       "      <td>30000000</td>\n",
       "      <td>191796233</td>\n",
       "      <td>[English]</td>\n",
       "    </tr>\n",
       "    <tr>\n",
       "      <th>1</th>\n",
       "      <td>2</td>\n",
       "      <td>113497</td>\n",
       "      <td>Jumanji</td>\n",
       "      <td>After being trapped in a jungle board game for...</td>\n",
       "      <td>When two kids find and play a magical board ga...</td>\n",
       "      <td>[Action, Adventure, Family]</td>\n",
       "      <td>1995</td>\n",
       "      <td>1995</td>\n",
       "      <td>6.9</td>\n",
       "      <td>234752</td>\n",
       "      <td>104</td>\n",
       "      <td>50000000</td>\n",
       "      <td>100475249</td>\n",
       "      <td>[English, French]</td>\n",
       "    </tr>\n",
       "    <tr>\n",
       "      <th>2</th>\n",
       "      <td>3</td>\n",
       "      <td>113228</td>\n",
       "      <td>Grumpier Old Men</td>\n",
       "      <td>Things don't seem to change much in Wabasha Co...</td>\n",
       "      <td>John and Max resolve to save their beloved bai...</td>\n",
       "      <td>[Comedy, Romance]</td>\n",
       "      <td>1995</td>\n",
       "      <td>1995</td>\n",
       "      <td>6.6</td>\n",
       "      <td>20854</td>\n",
       "      <td>101</td>\n",
       "      <td>25000000</td>\n",
       "      <td>69870000</td>\n",
       "      <td>[English]</td>\n",
       "    </tr>\n",
       "    <tr>\n",
       "      <th>3</th>\n",
       "      <td>4</td>\n",
       "      <td>114885</td>\n",
       "      <td>Waiting to Exhale</td>\n",
       "      <td>This story based on the best selling novel by ...</td>\n",
       "      <td>Based on Terry McMillan's novel, this film fol...</td>\n",
       "      <td>[Comedy, Drama, Romance]</td>\n",
       "      <td>1995</td>\n",
       "      <td>1995</td>\n",
       "      <td>5.7</td>\n",
       "      <td>8025</td>\n",
       "      <td>124</td>\n",
       "      <td>16000000</td>\n",
       "      <td>67052156</td>\n",
       "      <td>[English]</td>\n",
       "    </tr>\n",
       "    <tr>\n",
       "      <th>4</th>\n",
       "      <td>5</td>\n",
       "      <td>113041</td>\n",
       "      <td>Father of the Bride Part II</td>\n",
       "      <td>In this sequel to \"Father of the Bride\", Georg...</td>\n",
       "      <td>George Banks must deal not only with the pregn...</td>\n",
       "      <td>[Comedy, Family, Romance]</td>\n",
       "      <td>1995</td>\n",
       "      <td>1995</td>\n",
       "      <td>5.9</td>\n",
       "      <td>28834</td>\n",
       "      <td>106</td>\n",
       "      <td>30000000</td>\n",
       "      <td>76594000</td>\n",
       "      <td>[English]</td>\n",
       "    </tr>\n",
       "  </tbody>\n",
       "</table>\n",
       "</div>"
      ],
      "text/plain": [
       "   movieId  imdbId                        title  \\\n",
       "0        1  114709                    Toy Story   \n",
       "1        2  113497                      Jumanji   \n",
       "2        3  113228             Grumpier Old Men   \n",
       "3        4  114885            Waiting to Exhale   \n",
       "4        5  113041  Father of the Bride Part II   \n",
       "\n",
       "                                           storyline  \\\n",
       "0  A little boy named Andy loves to be in his roo...   \n",
       "1  After being trapped in a jungle board game for...   \n",
       "2  Things don't seem to change much in Wabasha Co...   \n",
       "3  This story based on the best selling novel by ...   \n",
       "4  In this sequel to \"Father of the Bride\", Georg...   \n",
       "\n",
       "                                         description  \\\n",
       "0  A cowboy doll is profoundly threatened and jea...   \n",
       "1  When two kids find and play a magical board ga...   \n",
       "2  John and Max resolve to save their beloved bai...   \n",
       "3  Based on Terry McMillan's novel, this film fol...   \n",
       "4  George Banks must deal not only with the pregn...   \n",
       "\n",
       "                            genre year2  year_binned  rating  rating_count  \\\n",
       "0  [Animation, Adventure, Comedy]  1995         1995     8.3        701041   \n",
       "1     [Action, Adventure, Family]  1995         1995     6.9        234752   \n",
       "2               [Comedy, Romance]  1995         1995     6.6         20854   \n",
       "3        [Comedy, Drama, Romance]  1995         1995     5.7          8025   \n",
       "4       [Comedy, Family, Romance]  1995         1995     5.9         28834   \n",
       "\n",
       "   length    budget      gross          languages  \n",
       "0      81  30000000  191796233          [English]  \n",
       "1     104  50000000  100475249  [English, French]  \n",
       "2     101  25000000   69870000          [English]  \n",
       "3     124  16000000   67052156          [English]  \n",
       "4     106  30000000   76594000          [English]  "
      ]
     },
     "execution_count": 255,
     "metadata": {},
     "output_type": "execute_result"
    }
   ],
   "source": [
    "df_preprocessed.head()"
   ]
  },
  {
   "cell_type": "code",
   "execution_count": 258,
   "metadata": {},
   "outputs": [
    {
     "data": {
      "text/plain": [
       "(9127,)"
      ]
     },
     "execution_count": 258,
     "metadata": {},
     "output_type": "execute_result"
    }
   ],
   "source": [
    "all_genres = set()\n",
    "df = df_preprocessed\n",
    "\n",
    "df[\"genre\"].apply(lambda y: [all_genres.add(x) for x in y]).shape"
   ]
  },
  {
   "cell_type": "code",
   "execution_count": 268,
   "metadata": {},
   "outputs": [],
   "source": [
    "genres_map = dict()\n",
    "i=0\n",
    "for g in all_genres:\n",
    "    if not g in genres_map:\n",
    "        genres_map[g] = i\n",
    "        i+=1\n",
    "        "
   ]
  },
  {
   "cell_type": "code",
   "execution_count": 275,
   "metadata": {},
   "outputs": [],
   "source": [
    "def map_genres(genres):\n",
    "    t = [0]*len(all_genres)\n",
    "    for g in genres:\n",
    "        t[genres_map[g]]=1\n",
    "    return t\n",
    "\n",
    "df[\"genre_encoded\"] = df[\"genre\"].apply(map_genres)"
   ]
  },
  {
   "cell_type": "code",
   "execution_count": 291,
   "metadata": {
    "collapsed": true
   },
   "outputs": [],
   "source": [
    "all_years = set(df[\"year_binned\"].unique())\n",
    "year_map = dict()\n",
    "i=0\n",
    "for y in all_years:\n",
    "    if not y in year_map:\n",
    "        year_map[y] = i\n",
    "        i+=1\n",
    "        \n",
    "def map_year(y):\n",
    "    t = [0]*len(all_years)\n",
    "    t[year_map[y]]=1\n",
    "    return t"
   ]
  },
  {
   "cell_type": "code",
   "execution_count": 292,
   "metadata": {},
   "outputs": [],
   "source": [
    "df[\"year_encoded\"] = df[\"year_binned\"].apply(map_year)"
   ]
  },
  {
   "cell_type": "code",
   "execution_count": 295,
   "metadata": {},
   "outputs": [],
   "source": [
    "df.index = df.movieId"
   ]
  },
  {
   "cell_type": "code",
   "execution_count": 308,
   "metadata": {},
   "outputs": [],
   "source": [
    "from sklearn.feature_extraction.text import TfidfVectorizer\n",
    "\n",
    "tfidf_vect = TfidfVectorizer(stop_words = 'english',max_features=200)\n",
    "text_features = tfidf_vect.fit_transform(df['description'].values)\n",
    "text_features_array = text_features.toarray()"
   ]
  },
  {
   "cell_type": "code",
   "execution_count": 309,
   "metadata": {},
   "outputs": [],
   "source": [
    "i=0\n",
    "def tf_idf_score(text):\n",
    "    global i\n",
    "    temp = text_features_array[i]\n",
    "    i+=1\n",
    "    return temp\n",
    "df[\"description_encoded\"] = df[\"description\"].apply(tf_idf_score)"
   ]
  },
  {
   "cell_type": "code",
   "execution_count": 317,
   "metadata": {},
   "outputs": [],
   "source": [
    "df_features = df[[\"movieId\",\"description_encoded\",\"genre_encoded\",\"year_encoded\"]]"
   ]
  },
  {
   "cell_type": "code",
   "execution_count": 318,
   "metadata": {},
   "outputs": [],
   "source": [
    "df_features.to_csv(\"movie_features.csv\")\n",
    "df_features.to_pickle(\"movie_features.pkl\")"
   ]
  },
  {
   "cell_type": "code",
   "execution_count": 314,
   "metadata": {},
   "outputs": [
    {
     "data": {
      "text/plain": [
       "(array([ 0.        ,  0.        ,  0.        ,  0.        ,  0.        ,\n",
       "         0.        ,  0.        ,  0.        ,  0.        ,  0.        ,\n",
       "         0.        ,  0.        ,  0.        ,  0.        ,  0.        ,\n",
       "         0.78649931,  0.        ,  0.        ,  0.        ,  0.        ,\n",
       "         0.        ,  0.        ,  0.        ,  0.        ,  0.        ,\n",
       "         0.        ,  0.        ,  0.        ,  0.        ,  0.        ,\n",
       "         0.        ,  0.        ,  0.        ,  0.        ,  0.        ,\n",
       "         0.        ,  0.        ,  0.        ,  0.        ,  0.        ,\n",
       "         0.        ,  0.        ,  0.        ,  0.        ,  0.        ,\n",
       "         0.        ,  0.        ,  0.        ,  0.        ,  0.        ,\n",
       "         0.        ,  0.        ,  0.        ,  0.        ,  0.        ,\n",
       "         0.        ,  0.        ,  0.        ,  0.        ,  0.        ,\n",
       "         0.        ,  0.        ,  0.        ,  0.        ,  0.        ,\n",
       "         0.        ,  0.        ,  0.        ,  0.        ,  0.        ,\n",
       "         0.        ,  0.        ,  0.        ,  0.        ,  0.        ,\n",
       "         0.        ,  0.        ,  0.        ,  0.        ,  0.        ,\n",
       "         0.        ,  0.        ,  0.        ,  0.        ,  0.        ,\n",
       "         0.        ,  0.        ,  0.        ,  0.        ,  0.        ,\n",
       "         0.        ,  0.        ,  0.        ,  0.        ,  0.        ,\n",
       "         0.        ,  0.        ,  0.        ,  0.        ,  0.        ,\n",
       "         0.        ,  0.        ,  0.        ,  0.        ,  0.        ,\n",
       "         0.        ,  0.        ,  0.        ,  0.        ,  0.        ,\n",
       "         0.        ,  0.        ,  0.        ,  0.        ,  0.        ,\n",
       "         0.        ,  0.        ,  0.        ,  0.        ,  0.        ,\n",
       "         0.        ,  0.        ,  0.        ,  0.        ,  0.        ,\n",
       "         0.61759115,  0.        ,  0.        ,  0.        ,  0.        ,\n",
       "         0.        ,  0.        ,  0.        ,  0.        ,  0.        ,\n",
       "         0.        ,  0.        ,  0.        ,  0.        ,  0.        ,\n",
       "         0.        ,  0.        ,  0.        ,  0.        ,  0.        ,\n",
       "         0.        ,  0.        ,  0.        ,  0.        ,  0.        ,\n",
       "         0.        ,  0.        ,  0.        ,  0.        ,  0.        ,\n",
       "         0.        ,  0.        ,  0.        ,  0.        ,  0.        ,\n",
       "         0.        ,  0.        ,  0.        ,  0.        ,  0.        ,\n",
       "         0.        ,  0.        ,  0.        ,  0.        ,  0.        ,\n",
       "         0.        ,  0.        ,  0.        ,  0.        ,  0.        ,\n",
       "         0.        ,  0.        ,  0.        ,  0.        ,  0.        ,\n",
       "         0.        ,  0.        ,  0.        ,  0.        ,  0.        ,\n",
       "         0.        ,  0.        ,  0.        ,  0.        ,  0.        ,\n",
       "         0.        ,  0.        ,  0.        ,  0.        ,  0.        ,\n",
       "         0.        ,  0.        ,  0.        ,  0.        ,  0.        ]),\n",
       " [0, 1, 0, 0, 0, 0],\n",
       " [0, 1, 0, 0, 0, 0, 0, 0, 1, 0, 0, 0, 0, 0, 0, 0, 0, 0, 0, 1, 0, 0, 0, 0])"
      ]
     },
     "execution_count": 314,
     "metadata": {},
     "output_type": "execute_result"
    }
   ],
   "source": [
    "def get_features(movieid):\n",
    "    row = df_features.loc[movieid]\n",
    "    desc_tfidf, year, genre = row[\"description_encoded\"], row[\"year_encoded\"], row[\"genre_encoded\"]\n",
    "    return desc_tfidf, year, genre\n",
    "\n",
    "get_features(1)\n"
   ]
  },
  {
   "cell_type": "code",
   "execution_count": null,
   "metadata": {
    "collapsed": true
   },
   "outputs": [],
   "source": []
  }
 ],
 "metadata": {
  "kernelspec": {
   "display_name": "Python 3",
   "language": "python",
   "name": "python3"
  },
  "language_info": {
   "codemirror_mode": {
    "name": "ipython",
    "version": 3
   },
   "file_extension": ".py",
   "mimetype": "text/x-python",
   "name": "python",
   "nbconvert_exporter": "python",
   "pygments_lexer": "ipython3",
   "version": "3.6.2"
  }
 },
 "nbformat": 4,
 "nbformat_minor": 2
}
