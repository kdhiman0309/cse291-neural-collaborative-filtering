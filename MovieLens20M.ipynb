{
 "cells": [
  {
   "cell_type": "code",
   "execution_count": 1,
   "metadata": {
    "collapsed": true
   },
   "outputs": [],
   "source": [
    "import pandas as pd\n",
    "import re\n",
    "import numpy as np"
   ]
  },
  {
   "cell_type": "code",
   "execution_count": 7,
   "metadata": {
    "collapsed": true
   },
   "outputs": [],
   "source": [
    "df_movies_features = pd.read_pickle(\"movie_features.pkl\")"
   ]
  },
  {
   "cell_type": "code",
   "execution_count": 11,
   "metadata": {
    "collapsed": true
   },
   "outputs": [],
   "source": [
    "movie_ids = set(df_movies_features[\"movieId\"].unique())"
   ]
  },
  {
   "cell_type": "code",
   "execution_count": 20,
   "metadata": {},
   "outputs": [
    {
     "data": {
      "text/html": [
       "<div>\n",
       "<style>\n",
       "    .dataframe thead tr:only-child th {\n",
       "        text-align: right;\n",
       "    }\n",
       "\n",
       "    .dataframe thead th {\n",
       "        text-align: left;\n",
       "    }\n",
       "\n",
       "    .dataframe tbody tr th {\n",
       "        vertical-align: top;\n",
       "    }\n",
       "</style>\n",
       "<table border=\"1\" class=\"dataframe\">\n",
       "  <thead>\n",
       "    <tr style=\"text-align: right;\">\n",
       "      <th></th>\n",
       "      <th>userId</th>\n",
       "      <th>movieId</th>\n",
       "      <th>rating</th>\n",
       "      <th>timestamp</th>\n",
       "    </tr>\n",
       "  </thead>\n",
       "  <tbody>\n",
       "    <tr>\n",
       "      <th>0</th>\n",
       "      <td>1</td>\n",
       "      <td>2</td>\n",
       "      <td>3.5</td>\n",
       "      <td>1112486027</td>\n",
       "    </tr>\n",
       "    <tr>\n",
       "      <th>1</th>\n",
       "      <td>1</td>\n",
       "      <td>29</td>\n",
       "      <td>3.5</td>\n",
       "      <td>1112484676</td>\n",
       "    </tr>\n",
       "    <tr>\n",
       "      <th>2</th>\n",
       "      <td>1</td>\n",
       "      <td>32</td>\n",
       "      <td>3.5</td>\n",
       "      <td>1112484819</td>\n",
       "    </tr>\n",
       "    <tr>\n",
       "      <th>3</th>\n",
       "      <td>1</td>\n",
       "      <td>47</td>\n",
       "      <td>3.5</td>\n",
       "      <td>1112484727</td>\n",
       "    </tr>\n",
       "    <tr>\n",
       "      <th>4</th>\n",
       "      <td>1</td>\n",
       "      <td>50</td>\n",
       "      <td>3.5</td>\n",
       "      <td>1112484580</td>\n",
       "    </tr>\n",
       "  </tbody>\n",
       "</table>\n",
       "</div>"
      ],
      "text/plain": [
       "   userId  movieId  rating   timestamp\n",
       "0       1        2     3.5  1112486027\n",
       "1       1       29     3.5  1112484676\n",
       "2       1       32     3.5  1112484819\n",
       "3       1       47     3.5  1112484727\n",
       "4       1       50     3.5  1112484580"
      ]
     },
     "execution_count": 20,
     "metadata": {},
     "output_type": "execute_result"
    }
   ],
   "source": [
    "df_ratings = pd.read_csv(\"ml-20m/ratings.csv\")\n",
    "df_ratings.head()"
   ]
  },
  {
   "cell_type": "code",
   "execution_count": 22,
   "metadata": {
    "collapsed": true
   },
   "outputs": [],
   "source": [
    "# filter by movieId\n",
    "df_ratings = df_ratings[df_ratings[\"movieId\"].apply(lambda x: x in movie_ids)]"
   ]
  },
  {
   "cell_type": "code",
   "execution_count": 57,
   "metadata": {
    "collapsed": true
   },
   "outputs": [],
   "source": [
    "# fitler by timestamp\n",
    "#2005 to #2015\n",
    "df_ratings2 = df_ratings[df_ratings[\"timestamp\"]>=1356998400]"
   ]
  },
  {
   "cell_type": "code",
   "execution_count": 58,
   "metadata": {},
   "outputs": [
    {
     "data": {
      "text/plain": [
       "14182"
      ]
     },
     "execution_count": 58,
     "metadata": {},
     "output_type": "execute_result"
    }
   ],
   "source": [
    "len(df_ratings2.userId.unique())"
   ]
  },
  {
   "cell_type": "code",
   "execution_count": 59,
   "metadata": {
    "collapsed": true
   },
   "outputs": [],
   "source": [
    "users_set = set((df_ratings2.groupby(\"userId\").count()[\"movieId\"]>=20).index)"
   ]
  },
  {
   "cell_type": "code",
   "execution_count": 60,
   "metadata": {
    "collapsed": true
   },
   "outputs": [],
   "source": [
    "df_ratings2 = df_ratings2[df_ratings2[\"userId\"].apply(lambda x: x in users_set)]"
   ]
  },
  {
   "cell_type": "code",
   "execution_count": 61,
   "metadata": {},
   "outputs": [
    {
     "data": {
      "text/plain": [
       "(1047762, 4)"
      ]
     },
     "execution_count": 61,
     "metadata": {},
     "output_type": "execute_result"
    }
   ],
   "source": [
    "df_ratings2.shape"
   ]
  },
  {
   "cell_type": "code",
   "execution_count": 64,
   "metadata": {},
   "outputs": [
    {
     "data": {
      "text/plain": [
       "(9127, 14182)"
      ]
     },
     "execution_count": 64,
     "metadata": {},
     "output_type": "execute_result"
    }
   ],
   "source": [
    "len(df_ratings2.movieId.unique()),len(df_ratings2.userId.unique())"
   ]
  },
  {
   "cell_type": "code",
   "execution_count": 92,
   "metadata": {
    "collapsed": true
   },
   "outputs": [],
   "source": [
    "df_ratings2.columns=[\"UserID\",\"ItemID\",\"Rating\",\"Timestamp\"]"
   ]
  },
  {
   "cell_type": "code",
   "execution_count": 93,
   "metadata": {
    "collapsed": true
   },
   "outputs": [],
   "source": [
    "df_ratings2.to_csv(\"movielense20M.ratings.data.csv\", index=None)\n",
    "df_ratings2.to_pickle(\"movielense20M.ratings.data.pkl\")"
   ]
  },
  {
   "cell_type": "markdown",
   "metadata": {},
   "source": [
    "### Test-train split"
   ]
  },
  {
   "cell_type": "code",
   "execution_count": 81,
   "metadata": {
    "collapsed": true
   },
   "outputs": [],
   "source": [
    "df = df_ratings2\n",
    "df.columns=[\"UserID\",\"ItemID\",\"Rating\",\"Timestamp\"]"
   ]
  },
  {
   "cell_type": "code",
   "execution_count": 82,
   "metadata": {},
   "outputs": [
    {
     "data": {
      "text/html": [
       "<div>\n",
       "<style>\n",
       "    .dataframe thead tr:only-child th {\n",
       "        text-align: right;\n",
       "    }\n",
       "\n",
       "    .dataframe thead th {\n",
       "        text-align: left;\n",
       "    }\n",
       "\n",
       "    .dataframe tbody tr th {\n",
       "        vertical-align: top;\n",
       "    }\n",
       "</style>\n",
       "<table border=\"1\" class=\"dataframe\">\n",
       "  <thead>\n",
       "    <tr style=\"text-align: right;\">\n",
       "      <th></th>\n",
       "      <th>userId</th>\n",
       "      <th>movieId</th>\n",
       "      <th>rating</th>\n",
       "      <th>timestamp</th>\n",
       "    </tr>\n",
       "  </thead>\n",
       "  <tbody>\n",
       "    <tr>\n",
       "      <th>0</th>\n",
       "      <td>1</td>\n",
       "      <td>2</td>\n",
       "      <td>3.5</td>\n",
       "      <td>1112486027</td>\n",
       "    </tr>\n",
       "    <tr>\n",
       "      <th>1</th>\n",
       "      <td>1</td>\n",
       "      <td>29</td>\n",
       "      <td>3.5</td>\n",
       "      <td>1112484676</td>\n",
       "    </tr>\n",
       "    <tr>\n",
       "      <th>2</th>\n",
       "      <td>1</td>\n",
       "      <td>32</td>\n",
       "      <td>3.5</td>\n",
       "      <td>1112484819</td>\n",
       "    </tr>\n",
       "    <tr>\n",
       "      <th>3</th>\n",
       "      <td>1</td>\n",
       "      <td>47</td>\n",
       "      <td>3.5</td>\n",
       "      <td>1112484727</td>\n",
       "    </tr>\n",
       "    <tr>\n",
       "      <th>4</th>\n",
       "      <td>1</td>\n",
       "      <td>50</td>\n",
       "      <td>3.5</td>\n",
       "      <td>1112484580</td>\n",
       "    </tr>\n",
       "  </tbody>\n",
       "</table>\n",
       "</div>"
      ],
      "text/plain": [
       "   userId  movieId  rating   timestamp\n",
       "0       1        2     3.5  1112486027\n",
       "1       1       29     3.5  1112484676\n",
       "2       1       32     3.5  1112484819\n",
       "3       1       47     3.5  1112484727\n",
       "4       1       50     3.5  1112484580"
      ]
     },
     "execution_count": 82,
     "metadata": {},
     "output_type": "execute_result"
    }
   ],
   "source": [
    "df = df.sort_values(\"Timestamp\", ascending=False)\n",
    "df_ratings.head()"
   ]
  },
  {
   "cell_type": "code",
   "execution_count": 83,
   "metadata": {
    "collapsed": true
   },
   "outputs": [],
   "source": [
    "from collections import defaultdict\n",
    "\n",
    "count_per_user = 1\n",
    "count_per_user_valid = 0\n",
    "user_counts = defaultdict(int)\n",
    "rows = []\n",
    "rows_valid = []\n",
    "for index, row in df.iterrows():\n",
    "    if user_counts[row[\"UserID\"]] < count_per_user:\n",
    "        rows += [index]\n",
    "        user_counts[row[\"UserID\"]] +=1\n",
    "    elif user_counts[row[\"UserID\"]] < count_per_user+count_per_user_valid:\n",
    "        rows_valid += [index]\n",
    "        #user_counts[row[\"UserID\"]] +=1"
   ]
  },
  {
   "cell_type": "code",
   "execution_count": 84,
   "metadata": {
    "collapsed": true
   },
   "outputs": [],
   "source": [
    "df_test_ratings = df.loc[rows]\n",
    "df_train_ratings = df.loc[list(set(df.index)-set(df_test_ratings.index))]"
   ]
  },
  {
   "cell_type": "code",
   "execution_count": 85,
   "metadata": {},
   "outputs": [
    {
     "data": {
      "text/html": [
       "<div>\n",
       "<style>\n",
       "    .dataframe thead tr:only-child th {\n",
       "        text-align: right;\n",
       "    }\n",
       "\n",
       "    .dataframe thead th {\n",
       "        text-align: left;\n",
       "    }\n",
       "\n",
       "    .dataframe tbody tr th {\n",
       "        vertical-align: top;\n",
       "    }\n",
       "</style>\n",
       "<table border=\"1\" class=\"dataframe\">\n",
       "  <thead>\n",
       "    <tr style=\"text-align: right;\">\n",
       "      <th></th>\n",
       "      <th>UserID</th>\n",
       "      <th>ItemID</th>\n",
       "      <th>Rating</th>\n",
       "      <th>Timestamp</th>\n",
       "    </tr>\n",
       "  </thead>\n",
       "  <tbody>\n",
       "    <tr>\n",
       "      <th>3537</th>\n",
       "      <td>31</td>\n",
       "      <td>364</td>\n",
       "      <td>3.0</td>\n",
       "      <td>1424844807</td>\n",
       "    </tr>\n",
       "    <tr>\n",
       "      <th>4504</th>\n",
       "      <td>42</td>\n",
       "      <td>5952</td>\n",
       "      <td>4.5</td>\n",
       "      <td>1411668080</td>\n",
       "    </tr>\n",
       "    <tr>\n",
       "      <th>4965</th>\n",
       "      <td>49</td>\n",
       "      <td>2858</td>\n",
       "      <td>3.5</td>\n",
       "      <td>1367549529</td>\n",
       "    </tr>\n",
       "    <tr>\n",
       "      <th>7000</th>\n",
       "      <td>59</td>\n",
       "      <td>1</td>\n",
       "      <td>4.5</td>\n",
       "      <td>1380400521</td>\n",
       "    </tr>\n",
       "    <tr>\n",
       "      <th>8037</th>\n",
       "      <td>71</td>\n",
       "      <td>104337</td>\n",
       "      <td>3.5</td>\n",
       "      <td>1417454493</td>\n",
       "    </tr>\n",
       "  </tbody>\n",
       "</table>\n",
       "</div>"
      ],
      "text/plain": [
       "      UserID  ItemID  Rating   Timestamp\n",
       "3537      31     364     3.0  1424844807\n",
       "4504      42    5952     4.5  1411668080\n",
       "4965      49    2858     3.5  1367549529\n",
       "7000      59       1     4.5  1380400521\n",
       "8037      71  104337     3.5  1417454493"
      ]
     },
     "execution_count": 85,
     "metadata": {},
     "output_type": "execute_result"
    }
   ],
   "source": [
    "df_test_ratings = df_test_ratings.sort_values([\"UserID\",\"ItemID\"])\n",
    "df_test_ratings.head()"
   ]
  },
  {
   "cell_type": "code",
   "execution_count": 86,
   "metadata": {},
   "outputs": [
    {
     "data": {
      "text/html": [
       "<div>\n",
       "<style>\n",
       "    .dataframe thead tr:only-child th {\n",
       "        text-align: right;\n",
       "    }\n",
       "\n",
       "    .dataframe thead th {\n",
       "        text-align: left;\n",
       "    }\n",
       "\n",
       "    .dataframe tbody tr th {\n",
       "        vertical-align: top;\n",
       "    }\n",
       "</style>\n",
       "<table border=\"1\" class=\"dataframe\">\n",
       "  <thead>\n",
       "    <tr style=\"text-align: right;\">\n",
       "      <th></th>\n",
       "      <th>UserID</th>\n",
       "      <th>ItemID</th>\n",
       "      <th>Rating</th>\n",
       "      <th>Timestamp</th>\n",
       "    </tr>\n",
       "  </thead>\n",
       "  <tbody>\n",
       "    <tr>\n",
       "      <th>3534</th>\n",
       "      <td>31</td>\n",
       "      <td>1</td>\n",
       "      <td>3.0</td>\n",
       "      <td>1424733487</td>\n",
       "    </tr>\n",
       "    <tr>\n",
       "      <th>3535</th>\n",
       "      <td>31</td>\n",
       "      <td>110</td>\n",
       "      <td>5.0</td>\n",
       "      <td>1424733473</td>\n",
       "    </tr>\n",
       "    <tr>\n",
       "      <th>3538</th>\n",
       "      <td>31</td>\n",
       "      <td>527</td>\n",
       "      <td>0.5</td>\n",
       "      <td>1424733598</td>\n",
       "    </tr>\n",
       "    <tr>\n",
       "      <th>3539</th>\n",
       "      <td>31</td>\n",
       "      <td>588</td>\n",
       "      <td>3.0</td>\n",
       "      <td>1424842869</td>\n",
       "    </tr>\n",
       "    <tr>\n",
       "      <th>3549</th>\n",
       "      <td>31</td>\n",
       "      <td>2571</td>\n",
       "      <td>4.5</td>\n",
       "      <td>1424736532</td>\n",
       "    </tr>\n",
       "  </tbody>\n",
       "</table>\n",
       "</div>"
      ],
      "text/plain": [
       "      UserID  ItemID  Rating   Timestamp\n",
       "3534      31       1     3.0  1424733487\n",
       "3535      31     110     5.0  1424733473\n",
       "3538      31     527     0.5  1424733598\n",
       "3539      31     588     3.0  1424842869\n",
       "3549      31    2571     4.5  1424736532"
      ]
     },
     "execution_count": 86,
     "metadata": {},
     "output_type": "execute_result"
    }
   ],
   "source": [
    "df_train_ratings = df_train_ratings.sort_values([\"UserID\",\"ItemID\"])\n",
    "df_train_ratings.head()"
   ]
  },
  {
   "cell_type": "code",
   "execution_count": 87,
   "metadata": {
    "collapsed": true
   },
   "outputs": [],
   "source": [
    "df_test_ratings.to_pickle(\"movielens20M.test.data\")\n",
    "df_train_ratings.to_pickle(\"movielens20M.train.data\")"
   ]
  },
  {
   "cell_type": "code",
   "execution_count": 80,
   "metadata": {},
   "outputs": [
    {
     "name": "stdout",
     "output_type": "stream",
     "text": [
      "movielens20M.test.data\n",
      "movielens20M.train.data\n"
     ]
    }
   ],
   "source": [
    "!ls movielens20M*"
   ]
  },
  {
   "cell_type": "markdown",
   "metadata": {
    "collapsed": true
   },
   "source": [
    "### Negatives"
   ]
  },
  {
   "cell_type": "code",
   "execution_count": 91,
   "metadata": {},
   "outputs": [
    {
     "name": "stdout",
     "output_type": "stream",
     "text": [
      "Wall time: 21.5 s\n"
     ]
    }
   ],
   "source": [
    "%%time\n",
    "user_item_pairs = defaultdict(set)\n",
    "\n",
    "for x in df[[\"UserID\", \"ItemID\"]].values:\n",
    "    # add all +ve to set\n",
    "    user_item_pairs[x[0]].add(x[1])\n",
    "\n",
    "num_items = df[\"ItemID\"].max()\n",
    "\n",
    "def get_negs(u):\n",
    "    negs = []\n",
    "    for _i in range(num_negs_per_positive):\n",
    "        # generate negatives and add to dict\n",
    "        j = np.random.randint(num_items)\n",
    "        while (u,j) in user_item_pairs[u]:\n",
    "            j = np.random.randint(num_items)\n",
    "        negs += [j]\n",
    "        #user_item_pairs[u].add(j)\n",
    "    return negs\n",
    "\n",
    "num_negs_per_positive = 99\n",
    "df_test_ratings[\"Negatives\"] = df_test_ratings[\"UserID\"].apply(lambda x: get_negs(x))\n",
    "#num_negs_per_positive = 99\n",
    "#df_valid_ratings[\"Negatives\"] = df_valid_ratings[\"UserID\"].apply(lambda x: get_negs(x))\n",
    "for x in df_test_ratings[[\"UserID\", \"ItemID\"]].values:\n",
    "    # add all +ve to set\n",
    "    user_item_pairs[x[0]].add(x[1])\n",
    "\n",
    "num_negs_per_positive = 7\n",
    "df_train_ratings[\"Negatives\"] = df_train_ratings[\"UserID\"].apply(lambda x: get_negs(x))"
   ]
  },
  {
   "cell_type": "code",
   "execution_count": null,
   "metadata": {
    "collapsed": true
   },
   "outputs": [],
   "source": []
  },
  {
   "cell_type": "code",
   "execution_count": null,
   "metadata": {
    "collapsed": true
   },
   "outputs": [],
   "source": []
  },
  {
   "cell_type": "code",
   "execution_count": 106,
   "metadata": {
    "collapsed": true
   },
   "outputs": [],
   "source": [
    "'''\n",
    "Created on Aug 8, 2016\n",
    "Processing datasets. \n",
    "\n",
    "\n",
    "'''\n",
    "import scipy.sparse as sp\n",
    "import numpy as np\n",
    "import pandas as pd\n",
    "from collections import defaultdict\n",
    "import copy\n",
    "class Dataset(object):\n",
    "    '''\n",
    "    classdocs\n",
    "    '''\n",
    "\n",
    "    def __init__(self, path, prep_data=False,count_per_user_test=1,count_per_user_validation=0,num_negatives_train=4):\n",
    "        '''\n",
    "        Constructor\n",
    "        '''\n",
    "        if prep_data:\n",
    "            self.trainData = self.load_file(path)\n",
    "            self.split_train_test(count_per_user_test=count_per_user_test,count_per_user_validation=count_per_user_validation)\n",
    "            self.negative_sampling(num_negatives_train=num_negatives_train)\n",
    "        else:\n",
    "            self.trainData = self.load_file(path + \".train.data.original\")\n",
    "            self.testData = self.load_file(path + \".test.data.original\")\n",
    "            #self.validData = self.load_file(path + \".valid.data\")\n",
    "            self.validData = self.testData\n",
    "        \n",
    "        \n",
    "        self.num_users = self.trainData[\"UserID\"].max()+1\n",
    "        self.num_items = self.trainData[\"ItemID\"].max()+1\n",
    "        #self.trainData = self.trainData.sample(1000)\n",
    "        \n",
    "    def load_file(self, filename):        \n",
    "        return pd.read_pickle(filename)\n",
    "    \n",
    "    def split_train_test(self,count_per_user_test=1,count_per_user_validation=0):\n",
    "        df = self.trainData\n",
    "        df = df.sort_values(\"Timestamp\", ascending=False)\n",
    "       \n",
    "        user_counts = defaultdict(int)\n",
    "        rows = []\n",
    "        rows_valid = []\n",
    "        for index, row in df.iterrows():\n",
    "            if user_counts[row[\"UserID\"]] < count_per_user_test:\n",
    "                rows += [index]\n",
    "                user_counts[row[\"UserID\"]] +=1\n",
    "            elif user_counts[row[\"UserID\"]] < count_per_user_test+count_per_user_validation:\n",
    "                rows_valid += [index]\n",
    "                user_counts[row[\"UserID\"]] +=1\n",
    "            \n",
    "        df_test_ratings = df.loc[rows]\n",
    "        df_validation_ratings = df.loc[rows_valid]\n",
    "        df_train_ratings = df.loc[list(set(df.index)-set(rows)-set(rows_valid))]\n",
    "    \n",
    "        self.trainData = df_train_ratings\n",
    "        self.testData  = df_test_ratings\n",
    "        self.validData = df_validation_ratings\n",
    "    \n",
    "    def negative_sampling(self, num_negatives_train=4):\n",
    "        user_item_pairs = defaultdict(set)\n",
    "        \n",
    "        for x in self.testData[[\"UserID\", \"ItemID\"]].values:\n",
    "            user_item_pairs[x[0]].add(x[1])\n",
    "            \n",
    "        for x in self.trainData[[\"UserID\", \"ItemID\"]].values:\n",
    "            user_item_pairs[x[0]].add(x[1])\n",
    "            \n",
    "        for x in self.validData[[\"UserID\", \"ItemID\"]].values:\n",
    "            user_item_pairs[x[0]].add(x[1])\n",
    "        \n",
    "        \n",
    "        num_items = self.trainData[\"ItemID\"].max()+1\n",
    "        user_item_pairs2 = copy.deepcopy(user_item_pairs)\n",
    "        \n",
    "        def get_negs(u):\n",
    "            negs = []\n",
    "            for _i in range(num_negs_per_positive):\n",
    "                # generate negatives and add to dict\n",
    "                j = np.random.randint(num_items)\n",
    "                while (u,j) in user_item_pairs[u]:\n",
    "                    j = np.random.randint(num_items)\n",
    "                negs += [j]\n",
    "                #user_item_pairs[u].add(j)\n",
    "                user_item_pairs2[u].add(j)\n",
    "            return negs\n",
    "        \n",
    "        num_negs_per_positive = 99\n",
    "        self.testData[\"Negatives\"] = self.testData[\"UserID\"].apply(lambda x: get_negs(x))\n",
    "        user_item_pairs = user_item_pairs2\n",
    "        user_item_pairs2 = copy.deepcopy(user_item_pairs)\n",
    "        \n",
    "        \n",
    "        num_negs_per_positive = 99\n",
    "        self.validData[\"Negatives\"] = self.validData[\"UserID\"].apply(lambda x: get_negs(x))\n",
    "        user_item_pairs = user_item_pairs2\n",
    "        user_item_pairs2 = copy.deepcopy(user_item_pairs)\n",
    "    \n",
    "        num_negs_per_positive = num_negatives_train\n",
    "        self.trainData[\"Negatives\"] = self.trainData[\"UserID\"].apply(lambda x: get_negs(x))\n",
    "        \n",
    "    def save(self, path):\n",
    "        self.trainData.to_pickle(path+\".train.data\")\n",
    "        self.testData.to_pickle(path+\".test.data\")\n",
    "        self.validData.to_pickle(path+\".valid.data\")"
   ]
  },
  {
   "cell_type": "code",
   "execution_count": 107,
   "metadata": {},
   "outputs": [],
   "source": [
    "d = Dataset(\"movielense20M.ratings.data.pkl\", prep_data=True, count_per_user_validation=1)"
   ]
  },
  {
   "cell_type": "code",
   "execution_count": null,
   "metadata": {
    "collapsed": true
   },
   "outputs": [],
   "source": []
  }
 ],
 "metadata": {
  "kernelspec": {
   "display_name": "Python 3",
   "language": "python",
   "name": "python3"
  },
  "language_info": {
   "codemirror_mode": {
    "name": "ipython",
    "version": 3
   },
   "file_extension": ".py",
   "mimetype": "text/x-python",
   "name": "python",
   "nbconvert_exporter": "python",
   "pygments_lexer": "ipython3",
   "version": "3.6.2"
  }
 },
 "nbformat": 4,
 "nbformat_minor": 2
}
